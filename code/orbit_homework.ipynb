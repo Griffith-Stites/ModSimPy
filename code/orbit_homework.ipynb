{
 "cells": [
  {
   "cell_type": "markdown",
   "metadata": {},
   "source": [
    "# Orbit Homework\n",
    "\n",
    "Griffith Stites\n"
   ]
  },
  {
   "cell_type": "code",
   "execution_count": 1,
   "metadata": {},
   "outputs": [],
   "source": [
    "# Configure Jupyter so figures appear in the notebook\n",
    "%matplotlib inline\n",
    "\n",
    "# Configure Jupyter to display the assigned value after an assignment\n",
    "%config InteractiveShell.ast_node_interactivity='last_expr_or_assign'\n",
    "\n",
    "# import functions from the modsim.py module\n",
    "from modsim import *"
   ]
  },
  {
   "cell_type": "markdown",
   "metadata": {},
   "source": [
    "### Earth falling into the sun\n",
    "\n",
    "Here's a question from the web site [Ask an Astronomer](http://curious.astro.cornell.edu/about-us/39-our-solar-system/the-earth/other-catastrophes/57-how-long-would-it-take-the-earth-to-fall-into-the-sun-intermediate):\n",
    "\n",
    "\"If the Earth suddenly stopped orbiting the Sun, I know eventually it would be pulled in by the Sun's gravity and hit it. How long would it take the Earth to hit the Sun? I imagine it would go slowly at first and then pick up speed.\"\n",
    "\n",
    "Here's a solution."
   ]
  },
  {
   "cell_type": "code",
   "execution_count": 151,
   "metadata": {},
   "outputs": [
    {
     "data": {
      "text/html": [
       "year"
      ],
      "text/latex": [
       "$year$"
      ],
      "text/plain": [
       "<Unit('year')>"
      ]
     },
     "execution_count": 151,
     "metadata": {},
     "output_type": "execute_result"
    }
   ],
   "source": [
    "# Here are the units we'll need\n",
    "\n",
    "s = UNITS.second\n",
    "N = UNITS.newton\n",
    "kg = UNITS.kilogram\n",
    "m = UNITS.meter\n",
    "year = UNITS.year"
   ]
  },
  {
   "cell_type": "code",
   "execution_count": 182,
   "metadata": {},
   "outputs": [
    {
     "data": {
      "text/html": [
       "<div>\n",
       "<style scoped>\n",
       "    .dataframe tbody tr th:only-of-type {\n",
       "        vertical-align: middle;\n",
       "    }\n",
       "\n",
       "    .dataframe tbody tr th {\n",
       "        vertical-align: top;\n",
       "    }\n",
       "\n",
       "    .dataframe thead th {\n",
       "        text-align: right;\n",
       "    }\n",
       "</style>\n",
       "<table border=\"1\" class=\"dataframe\">\n",
       "  <thead>\n",
       "    <tr style=\"text-align: right;\">\n",
       "      <th></th>\n",
       "      <th>values</th>\n",
       "    </tr>\n",
       "  </thead>\n",
       "  <tbody>\n",
       "    <tr>\n",
       "      <th>x</th>\n",
       "      <td>147000000000.0 meter</td>\n",
       "    </tr>\n",
       "    <tr>\n",
       "      <th>y</th>\n",
       "      <td>0</td>\n",
       "    </tr>\n",
       "    <tr>\n",
       "      <th>vx</th>\n",
       "      <td>0</td>\n",
       "    </tr>\n",
       "    <tr>\n",
       "      <th>vy</th>\n",
       "      <td>30330.0 meter / second</td>\n",
       "    </tr>\n",
       "  </tbody>\n",
       "</table>\n",
       "</div>"
      ],
      "text/plain": [
       "x       147000000000.0 meter\n",
       "y                          0\n",
       "vx                         0\n",
       "vy    30330.0 meter / second\n",
       "dtype: object"
      ]
     },
     "execution_count": 182,
     "metadata": {},
     "output_type": "execute_result"
    }
   ],
   "source": [
    "# And an inition condition (with everything in SI units)\n",
    "\n",
    "r_0 = 147e9 * m\n",
    "v_0 = 30330 * m / s\n",
    "\n",
    "init = State(x = r_0,\n",
    "             y = 0,\n",
    "             vx = 0,\n",
    "             vy = v_0)"
   ]
  },
  {
   "cell_type": "code",
   "execution_count": 183,
   "metadata": {},
   "outputs": [
    {
     "data": {
      "text/html": [
       "<div>\n",
       "<style scoped>\n",
       "    .dataframe tbody tr th:only-of-type {\n",
       "        vertical-align: middle;\n",
       "    }\n",
       "\n",
       "    .dataframe tbody tr th {\n",
       "        vertical-align: top;\n",
       "    }\n",
       "\n",
       "    .dataframe thead th {\n",
       "        text-align: right;\n",
       "    }\n",
       "</style>\n",
       "<table border=\"1\" class=\"dataframe\">\n",
       "  <thead>\n",
       "    <tr style=\"text-align: right;\">\n",
       "      <th></th>\n",
       "      <th>values</th>\n",
       "    </tr>\n",
       "  </thead>\n",
       "  <tbody>\n",
       "    <tr>\n",
       "      <th>init</th>\n",
       "      <td>x       147000000000.0 meter\n",
       "y                ...</td>\n",
       "    </tr>\n",
       "    <tr>\n",
       "      <th>G</th>\n",
       "      <td>6.674e-11 meter ** 2 * newton / kilogram ** 2</td>\n",
       "    </tr>\n",
       "    <tr>\n",
       "      <th>m1</th>\n",
       "      <td>1.989e+30 kilogram</td>\n",
       "    </tr>\n",
       "    <tr>\n",
       "      <th>r_final</th>\n",
       "      <td>701879000.0 meter</td>\n",
       "    </tr>\n",
       "    <tr>\n",
       "      <th>m2</th>\n",
       "      <td>5.972e+24 kilogram</td>\n",
       "    </tr>\n",
       "    <tr>\n",
       "      <th>t_0</th>\n",
       "      <td>0 second</td>\n",
       "    </tr>\n",
       "    <tr>\n",
       "      <th>t_end</th>\n",
       "      <td>1 year</td>\n",
       "    </tr>\n",
       "  </tbody>\n",
       "</table>\n",
       "</div>"
      ],
      "text/plain": [
       "init       x       147000000000.0 meter\n",
       "y                ...\n",
       "G              6.674e-11 meter ** 2 * newton / kilogram ** 2\n",
       "m1                                        1.989e+30 kilogram\n",
       "r_final                                    701879000.0 meter\n",
       "m2                                        5.972e+24 kilogram\n",
       "t_0                                                 0 second\n",
       "t_end                                                 1 year\n",
       "dtype: object"
      ]
     },
     "execution_count": 183,
     "metadata": {},
     "output_type": "execute_result"
    }
   ],
   "source": [
    "# Making a system object\n",
    "\n",
    "r_earth = 6.371e6 * m\n",
    "r_sun = 695.508e6 * m\n",
    "t_end = 1 * year\n",
    "\n",
    "system = System(init=init,\n",
    "                G=6.674e-11 * N / kg**2 * m**2,\n",
    "                m1=1.989e30 * kg,\n",
    "                r_final=r_sun + r_earth,\n",
    "                m2=5.972e24 * kg,\n",
    "                t_0=0 * s,\n",
    "                t_end=t_end)"
   ]
  },
  {
   "cell_type": "code",
   "execution_count": 184,
   "metadata": {},
   "outputs": [],
   "source": [
    "# Here's a function that computes the force of gravity\n",
    "\n",
    "def universal_gravitation(state, system):\n",
    "    \"\"\"Computes gravitational force.\n",
    "    \n",
    "    state: State object with distance r\n",
    "    system: System object with m1, m2, and G\n",
    "    \"\"\"\n",
    "    x, y, vx, vy = state\n",
    "    unpack(system)\n",
    "    \n",
    "    #Define r as a vector\n",
    "    r = Vector(x, y)\n",
    "    \n",
    "    #r.mag is just the magnitude of the r Vector\n",
    "    force = G * m1 * m2 / r.mag**2\n",
    "    \n",
    "    #Force is opposite the angle of the radius\n",
    "    ForceX, ForceY = pol2cart(-r.angle, force)\n",
    "    forceVector = Vector(ForceX, ForceY)\n",
    "    \n",
    "    return forceVector"
   ]
  },
  {
   "cell_type": "code",
   "execution_count": 185,
   "metadata": {},
   "outputs": [
    {
     "data": {
      "text/html": [
       "[ 3.6686486e+22 -0.0000000e+00] newton"
      ],
      "text/latex": [
       "$[ 3.6686486e+22 -0.0000000e+00] newton$"
      ],
      "text/plain": [
       "<Quantity([ 3.6686486e+22 -0.0000000e+00], 'newton')>"
      ]
     },
     "execution_count": 185,
     "metadata": {},
     "output_type": "execute_result"
    }
   ],
   "source": [
    "universal_gravitation(init, system)"
   ]
  },
  {
   "cell_type": "code",
   "execution_count": 191,
   "metadata": {},
   "outputs": [],
   "source": [
    "# The slope function\n",
    "\n",
    "def slope_func(state, t, system):\n",
    "    \"\"\"Compute derivatives of the state.\n",
    "    \n",
    "    state: position, velocity\n",
    "    t: time\n",
    "    system: System object containing `g`\n",
    "    \n",
    "    returns: derivatives of y and v\n",
    "    \"\"\"\n",
    "    x, y, vx, vy = state\n",
    "    unpack(system)    \n",
    "\n",
    "    forceVector = universal_gravitation(state, system)\n",
    "   \n",
    "    dxdt = vx\n",
    "    dydt = vy\n",
    "    dvxdt = -forceVector.x / m2\n",
    "    dvydt = -forceVector.y / m2\n",
    "    \n",
    "    return dxdt, dydt, dvxdt, dvydt"
   ]
  },
  {
   "cell_type": "code",
   "execution_count": 192,
   "metadata": {},
   "outputs": [
    {
     "data": {
      "text/plain": [
       "(0,\n",
       " <Quantity(30330.0, 'meter / second')>,\n",
       " <Quantity(-0.006143082049146188, 'newton / kilogram')>,\n",
       " <Quantity(0.0, 'newton / kilogram')>)"
      ]
     },
     "execution_count": 192,
     "metadata": {},
     "output_type": "execute_result"
    }
   ],
   "source": [
    "# Always test the slope function!\n",
    "\n",
    "slope_func(init, 0, system)"
   ]
  },
  {
   "cell_type": "code",
   "execution_count": 193,
   "metadata": {},
   "outputs": [
    {
     "data": {
      "text/html": [
       "<div>\n",
       "<style scoped>\n",
       "    .dataframe tbody tr th:only-of-type {\n",
       "        vertical-align: middle;\n",
       "    }\n",
       "\n",
       "    .dataframe tbody tr th {\n",
       "        vertical-align: top;\n",
       "    }\n",
       "\n",
       "    .dataframe thead th {\n",
       "        text-align: right;\n",
       "    }\n",
       "</style>\n",
       "<table border=\"1\" class=\"dataframe\">\n",
       "  <thead>\n",
       "    <tr style=\"text-align: right;\">\n",
       "      <th></th>\n",
       "      <th>values</th>\n",
       "    </tr>\n",
       "  </thead>\n",
       "  <tbody>\n",
       "    <tr>\n",
       "      <th>sol</th>\n",
       "      <td>None</td>\n",
       "    </tr>\n",
       "    <tr>\n",
       "      <th>t_events</th>\n",
       "      <td>[]</td>\n",
       "    </tr>\n",
       "    <tr>\n",
       "      <th>nfev</th>\n",
       "      <td>116</td>\n",
       "    </tr>\n",
       "    <tr>\n",
       "      <th>njev</th>\n",
       "      <td>0</td>\n",
       "    </tr>\n",
       "    <tr>\n",
       "      <th>nlu</th>\n",
       "      <td>0</td>\n",
       "    </tr>\n",
       "    <tr>\n",
       "      <th>status</th>\n",
       "      <td>0</td>\n",
       "    </tr>\n",
       "    <tr>\n",
       "      <th>message</th>\n",
       "      <td>The solver successfully reached the end of the...</td>\n",
       "    </tr>\n",
       "    <tr>\n",
       "      <th>success</th>\n",
       "      <td>True</td>\n",
       "    </tr>\n",
       "  </tbody>\n",
       "</table>\n",
       "</div>"
      ],
      "text/plain": [
       "sol                                                      None\n",
       "t_events                                                   []\n",
       "nfev                                                      116\n",
       "njev                                                        0\n",
       "nlu                                                         0\n",
       "status                                                      0\n",
       "message     The solver successfully reached the end of the...\n",
       "success                                                  True\n",
       "dtype: object"
      ]
     },
     "execution_count": 193,
     "metadata": {},
     "output_type": "execute_result"
    }
   ],
   "source": [
    "results, details = run_ode_solver(system, slope_func)\n",
    "details"
   ]
  },
  {
   "cell_type": "code",
   "execution_count": 194,
   "metadata": {},
   "outputs": [
    {
     "data": {
      "text/html": [
       "<div>\n",
       "<style scoped>\n",
       "    .dataframe tbody tr th:only-of-type {\n",
       "        vertical-align: middle;\n",
       "    }\n",
       "\n",
       "    .dataframe tbody tr th {\n",
       "        vertical-align: top;\n",
       "    }\n",
       "\n",
       "    .dataframe thead th {\n",
       "        text-align: right;\n",
       "    }\n",
       "</style>\n",
       "<table border=\"1\" class=\"dataframe\">\n",
       "  <thead>\n",
       "    <tr style=\"text-align: right;\">\n",
       "      <th></th>\n",
       "      <th>x</th>\n",
       "      <th>y</th>\n",
       "      <th>vx</th>\n",
       "      <th>vy</th>\n",
       "    </tr>\n",
       "  </thead>\n",
       "  <tbody>\n",
       "    <tr>\n",
       "      <th>0.000000e+00</th>\n",
       "      <td>1.470000e+11</td>\n",
       "      <td>0.000000e+00</td>\n",
       "      <td>0.000000e+00</td>\n",
       "      <td>30330.000000</td>\n",
       "    </tr>\n",
       "    <tr>\n",
       "      <th>4.662755e-08</th>\n",
       "      <td>1.470000e+11</td>\n",
       "      <td>1.414214e-03</td>\n",
       "      <td>-2.864369e-10</td>\n",
       "      <td>30330.000000</td>\n",
       "    </tr>\n",
       "    <tr>\n",
       "      <th>5.129030e-07</th>\n",
       "      <td>1.470000e+11</td>\n",
       "      <td>1.555635e-02</td>\n",
       "      <td>-3.150805e-09</td>\n",
       "      <td>30330.000000</td>\n",
       "    </tr>\n",
       "    <tr>\n",
       "      <th>5.175658e-06</th>\n",
       "      <td>1.470000e+11</td>\n",
       "      <td>1.569777e-01</td>\n",
       "      <td>-3.179449e-08</td>\n",
       "      <td>30330.000000</td>\n",
       "    </tr>\n",
       "    <tr>\n",
       "      <th>5.180321e-05</th>\n",
       "      <td>1.470000e+11</td>\n",
       "      <td>1.571191e+00</td>\n",
       "      <td>-3.182313e-07</td>\n",
       "      <td>30330.000000</td>\n",
       "    </tr>\n",
       "    <tr>\n",
       "      <th>5.180787e-04</th>\n",
       "      <td>1.470000e+11</td>\n",
       "      <td>1.571333e+01</td>\n",
       "      <td>-3.182600e-06</td>\n",
       "      <td>30330.000000</td>\n",
       "    </tr>\n",
       "    <tr>\n",
       "      <th>5.180834e-03</th>\n",
       "      <td>1.470000e+11</td>\n",
       "      <td>1.571347e+02</td>\n",
       "      <td>-3.182629e-05</td>\n",
       "      <td>30330.000000</td>\n",
       "    </tr>\n",
       "    <tr>\n",
       "      <th>5.180838e-02</th>\n",
       "      <td>1.470000e+11</td>\n",
       "      <td>1.571348e+03</td>\n",
       "      <td>-3.182631e-04</td>\n",
       "      <td>30330.000000</td>\n",
       "    </tr>\n",
       "    <tr>\n",
       "      <th>5.180839e-01</th>\n",
       "      <td>1.470000e+11</td>\n",
       "      <td>1.571348e+04</td>\n",
       "      <td>-3.182632e-03</td>\n",
       "      <td>30330.000000</td>\n",
       "    </tr>\n",
       "    <tr>\n",
       "      <th>5.180839e+00</th>\n",
       "      <td>1.470000e+11</td>\n",
       "      <td>1.571348e+05</td>\n",
       "      <td>-3.182632e-02</td>\n",
       "      <td>30330.000000</td>\n",
       "    </tr>\n",
       "    <tr>\n",
       "      <th>5.180839e+01</th>\n",
       "      <td>1.470000e+11</td>\n",
       "      <td>1.571348e+06</td>\n",
       "      <td>-3.182632e-01</td>\n",
       "      <td>30330.000002</td>\n",
       "    </tr>\n",
       "    <tr>\n",
       "      <th>5.180839e+02</th>\n",
       "      <td>1.470000e+11</td>\n",
       "      <td>1.571348e+07</td>\n",
       "      <td>-3.182632e+00</td>\n",
       "      <td>30330.000170</td>\n",
       "    </tr>\n",
       "    <tr>\n",
       "      <th>5.180839e+03</th>\n",
       "      <td>1.469999e+11</td>\n",
       "      <td>1.571349e+08</td>\n",
       "      <td>-3.182631e+01</td>\n",
       "      <td>30330.017010</td>\n",
       "    </tr>\n",
       "    <tr>\n",
       "      <th>5.180839e+04</th>\n",
       "      <td>1.469918e+11</td>\n",
       "      <td>1.571378e+09</td>\n",
       "      <td>-3.182569e+02</td>\n",
       "      <td>30331.701042</td>\n",
       "    </tr>\n",
       "    <tr>\n",
       "      <th>5.180839e+05</th>\n",
       "      <td>1.461764e+11</td>\n",
       "      <td>1.574287e+10</td>\n",
       "      <td>-3.176272e+03</td>\n",
       "      <td>30500.227821</td>\n",
       "    </tr>\n",
       "    <tr>\n",
       "      <th>2.853431e+06</th>\n",
       "      <td>1.229049e+11</td>\n",
       "      <td>9.144115e+10</td>\n",
       "      <td>-1.615893e+04</td>\n",
       "      <td>35413.242822</td>\n",
       "    </tr>\n",
       "    <tr>\n",
       "      <th>6.621560e+06</th>\n",
       "      <td>4.233602e+10</td>\n",
       "      <td>2.494807e+11</td>\n",
       "      <td>-2.385309e+04</td>\n",
       "      <td>47370.226097</td>\n",
       "    </tr>\n",
       "    <tr>\n",
       "      <th>1.176644e+07</th>\n",
       "      <td>-8.119566e+10</td>\n",
       "      <td>5.102135e+11</td>\n",
       "      <td>-2.388034e+04</td>\n",
       "      <td>52725.957242</td>\n",
       "    </tr>\n",
       "    <tr>\n",
       "      <th>1.928494e+07</th>\n",
       "      <td>-2.588965e+11</td>\n",
       "      <td>9.156678e+11</td>\n",
       "      <td>-2.344044e+04</td>\n",
       "      <td>54718.420820</td>\n",
       "    </tr>\n",
       "    <tr>\n",
       "      <th>3.155693e+07</th>\n",
       "      <td>-5.443953e+11</td>\n",
       "      <td>1.594277e+12</td>\n",
       "      <td>-2.313695e+04</td>\n",
       "      <td>55690.207971</td>\n",
       "    </tr>\n",
       "  </tbody>\n",
       "</table>\n",
       "</div>"
      ],
      "text/plain": [
       "                         x             y            vx            vy\n",
       "0.000000e+00  1.470000e+11  0.000000e+00  0.000000e+00  30330.000000\n",
       "4.662755e-08  1.470000e+11  1.414214e-03 -2.864369e-10  30330.000000\n",
       "5.129030e-07  1.470000e+11  1.555635e-02 -3.150805e-09  30330.000000\n",
       "5.175658e-06  1.470000e+11  1.569777e-01 -3.179449e-08  30330.000000\n",
       "5.180321e-05  1.470000e+11  1.571191e+00 -3.182313e-07  30330.000000\n",
       "5.180787e-04  1.470000e+11  1.571333e+01 -3.182600e-06  30330.000000\n",
       "5.180834e-03  1.470000e+11  1.571347e+02 -3.182629e-05  30330.000000\n",
       "5.180838e-02  1.470000e+11  1.571348e+03 -3.182631e-04  30330.000000\n",
       "5.180839e-01  1.470000e+11  1.571348e+04 -3.182632e-03  30330.000000\n",
       "5.180839e+00  1.470000e+11  1.571348e+05 -3.182632e-02  30330.000000\n",
       "5.180839e+01  1.470000e+11  1.571348e+06 -3.182632e-01  30330.000002\n",
       "5.180839e+02  1.470000e+11  1.571348e+07 -3.182632e+00  30330.000170\n",
       "5.180839e+03  1.469999e+11  1.571349e+08 -3.182631e+01  30330.017010\n",
       "5.180839e+04  1.469918e+11  1.571378e+09 -3.182569e+02  30331.701042\n",
       "5.180839e+05  1.461764e+11  1.574287e+10 -3.176272e+03  30500.227821\n",
       "2.853431e+06  1.229049e+11  9.144115e+10 -1.615893e+04  35413.242822\n",
       "6.621560e+06  4.233602e+10  2.494807e+11 -2.385309e+04  47370.226097\n",
       "1.176644e+07 -8.119566e+10  5.102135e+11 -2.388034e+04  52725.957242\n",
       "1.928494e+07 -2.588965e+11  9.156678e+11 -2.344044e+04  54718.420820\n",
       "3.155693e+07 -5.443953e+11  1.594277e+12 -2.313695e+04  55690.207971"
      ]
     },
     "execution_count": 194,
     "metadata": {},
     "output_type": "execute_result"
    }
   ],
   "source": [
    "results"
   ]
  },
  {
   "cell_type": "code",
   "execution_count": 195,
   "metadata": {},
   "outputs": [
    {
     "data": {
      "image/png": "[encoded data removed]",
      "text/plain": [
       "<Figure size 432x288 with 1 Axes>"
      ]
     },
     "metadata": {
      "needs_background": "light"
     },
     "output_type": "display_data"
    }
   ],
   "source": [
    "# Scaling the time steps to days\n",
    "results.index /= 60 * 60 * 24\n",
    "\n",
    "# Scaling the distance to million km\n",
    "x = results.x / 1e9;\n",
    "y = results.y / 1e9;\n",
    "\n",
    "plot(x, label='x')\n",
    "plot(y, label='y')\n",
    "\n",
    "decorate(xlabel='Time (day)',\n",
    "         ylabel='Distance from sun in (million km)')"
   ]
  },
  {
   "cell_type": "code",
   "execution_count": 173,
   "metadata": {},
   "outputs": [
    {
     "data": {
      "image/png": "[encoded data removed]",
      "text/plain": [
       "<Figure size 432x288 with 1 Axes>"
      ]
     },
     "metadata": {
      "needs_background": "light"
     },
     "output_type": "display_data"
    }
   ],
   "source": [
    "plot(y, label='y')\n",
    "\n",
    "decorate(xlabel='Time (day)',\n",
    "         ylabel='Distance from sun in y (million km)')"
   ]
  },
  {
   "cell_type": "code",
   "execution_count": null,
   "metadata": {},
   "outputs": [],
   "source": []
  }
 ],
 "metadata": {
  "kernelspec": {
   "display_name": "Python 3",
   "language": "python",
   "name": "python3"
  },
  "language_info": {
   "codemirror_mode": {
    "name": "ipython",
    "version": 3
   },
   "file_extension": ".py",
   "mimetype": "text/x-python",
   "name": "python",
   "nbconvert_exporter": "python",
   "pygments_lexer": "ipython3",
   "version": "3.6.6"
  }
 },
 "nbformat": 4,
 "nbformat_minor": 2
}
