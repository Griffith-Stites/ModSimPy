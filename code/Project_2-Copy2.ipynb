{
 "cells": [
  {
   "cell_type": "markdown",
   "metadata": {},
   "source": [
    "# Project 2\n",
    "\n",
    "Griffith and Becca"
   ]
  },
  {
   "cell_type": "markdown",
   "metadata": {},
   "source": [
    "# Q: How does not getting an appropriate of sleep effect the spread of sickness?\n",
    "\n",
    "An inappropriate amount of sleep - either too little or too much - can weaken the immune system. This can make it easier for individuals to become infected by a sickness. This model aims to determine how having different percentages of the population with different amounts of sleep affects the spread of a sickness accross that population.\n",
    "\n",
    "# To Do\n",
    "* Fix make_system to work such that infected and susceptible add up to 1000, right now they add up to more.\n",
    "* Survey with Olin students, how much sleep do they get?\n",
    "* Implement number of Olin students into total enrollment (335). Make sure to prevent fractional students!"
   ]
  },
  {
   "cell_type": "code",
   "execution_count": 1,
   "metadata": {},
   "outputs": [],
   "source": [
    "# Configure Jupyter so figures appear in the notebook\n",
    "%matplotlib inline\n",
    "\n",
    "# Configure Jupyter to display the assigned value after an assignment\n",
    "%config InteractiveShell.ast_node_interactivity='last_expr_or_assign'\n",
    "\n",
    "# import functions from the modsim.py module\n",
    "from modsim import *"
   ]
  },
  {
   "cell_type": "markdown",
   "metadata": {},
   "source": [
    "This model relies on a lot of stocks (11 to be specific). There are susceptible and infected stocks for all sleep values (As the contact rate is different for each)."
   ]
  },
  {
   "cell_type": "code",
   "execution_count": 2,
   "metadata": {},
   "outputs": [],
   "source": [
    "def make_system(sleepFive, sleepSix, sleepSeven, sleepEight, sleepNine, infectedInitial, beta5, beta6, beta7, beta8, beta9, beta, gamma):\n",
    "    \"\"\"Make a system object for the SIR model.\n",
    "    \n",
    "    sleepFive: Percentage of the population with five or less hours of sleep\n",
    "    sleepSix: Percentage of the population with six hours of sleep\n",
    "    sleepSeven: Percentage of the population with seven hours of sleep\n",
    "    sleepEight: Percentage of the population with eight hours of sleep\n",
    "    sleepNine: Percentage of the population with nine or more hours of sleep\n",
    "    infectedInitial: Percentage of the population that starts out infected\n",
    "    \n",
    "    beta5: contact rate multiplier in for five hours of sleep\n",
    "    beta6: contact rate multiplier for six hours of sleep\n",
    "    beta7: contact rate multiplier for seven hours of sleep\n",
    "    beta8: contact rate multiplier for eight hours of sleep\n",
    "    beta9: contact rate multiplier for nine hours of sleep\n",
    "    beta: contact rate in days\n",
    "    gamma: recovery rate in days\n",
    "    \n",
    "    returns: System object\n",
    "    \"\"\"\n",
    "    TotalPopulation = 1000\n",
    "    SusceptiblePopulation = 1000 - (initialInfected * TotalPopulation)\n",
    "    \n",
    "    S5 = sleepFive * SusceptiblePopulation\n",
    "    S6 = sleepSix * SusceptiblePopulation\n",
    "    S7 = sleepSeven * SusceptiblePopulation\n",
    "    S8 = sleepEight * SusceptiblePopulation\n",
    "    S9 = sleepNine *  SusceptiblePopulation \n",
    "    \n",
    "    I5 = sleepFive * TotalPopulation * infectedInitial\n",
    "    I6 = sleepSix * TotalPopulation * infectedInitial\n",
    "    I7 = sleepSeven * TotalPopulation * infectedInitial\n",
    "    I8 = sleepEight * TotalPopulation * infectedInitial\n",
    "    I9 = sleepNine * TotalPopulation * infectedInitial\n",
    "    \n",
    "    init = State(S5=S5, S6=S6, S7=S7, S8=S8, S9=S9, \n",
    "                 I5=I5, I6=I6, I7=I7, I8=I8, I9=I9, \n",
    "                 R=0)\n",
    "    t0 = 0\n",
    "    t_end = 100\n",
    "    \n",
    "\n",
    "    return System(init=init, t0=t0, t_end=t_end,\n",
    "                  beta5=beta5, beta6=beta6, beta7=beta7, beta8=beta8, beta9=beta9,\n",
    "                  beta=beta, gamma=gamma)"
   ]
  },
  {
   "cell_type": "markdown",
   "metadata": {},
   "source": [
    "There are two plot functions. One plots the total Susceptible, Infected, and Recovered (SIR) and prints out a statement with the percentages of each. The other plot function plots all of the stocks (All of the various sleep values for susceptible and infected).\n",
    "\n",
    "# FIX PLOT FUNCTION and total infected (If needed)\n",
    "* Add a way to display the fraction that is each sleep group\n",
    "* add recovered based on sleep"
   ]
  },
  {
   "cell_type": "code",
   "execution_count": 3,
   "metadata": {},
   "outputs": [],
   "source": [
    "def plot_results_all(results):\n",
    "    \"\"\"Plot the results of a SIR model.\n",
    "    \n",
    "    results: Dataframe with the results of the model\n",
    "    \"\"\"\n",
    "    TotalSusceptible = results.S5 + results.S6 + results.S7 + results.S8 + results.S9\n",
    "    TotalInfected = results.I5 + results.I6 + results.I7 + results.I8 + results.I9\n",
    "    \n",
    "    plot(TotalSusceptible, '--', label='Total Susceptible')\n",
    "    plot(TotalInfected, '-', label='Total Infected')\n",
    "    plot(results.R, ':', label='Total Recovered')\n",
    "    decorate(xlabel='Time (days)',\n",
    "             ylabel='Population')"
   ]
  },
  {
   "cell_type": "code",
   "execution_count": 4,
   "metadata": {},
   "outputs": [],
   "source": [
    "def plot_results_seperate(results):\n",
    "    \"\"\"PLot the results of a SIR model with seperate groups.\n",
    "    \n",
    "    results: Dataframe with the results of the model\"\"\""
   ]
  },
  {
   "cell_type": "code",
   "execution_count": 5,
   "metadata": {},
   "outputs": [],
   "source": [
    "def calc_total_infected(results):\n",
    "    \"\"\"Fraction of population infected during the simulation.\n",
    "    \n",
    "    results: DataFrame with columns S, I, R\n",
    "    \n",
    "    returns: fraction of population\n",
    "    \"\"\"\n",
    "    return get_first_value(results.S) - get_last_value(results.S)"
   ]
  },
  {
   "cell_type": "markdown",
   "metadata": {},
   "source": [
    "Uses the make_system function to make a system with the below fractions of people who get five, six, seven, eight, and nine hours of sleep. Also specify the portion of the population that starts out infected."
   ]
  },
  {
   "cell_type": "code",
   "execution_count": 6,
   "metadata": {
    "scrolled": true
   },
   "outputs": [
    {
     "data": {
      "text/html": [
       "<div>\n",
       "<style scoped>\n",
       "    .dataframe tbody tr th:only-of-type {\n",
       "        vertical-align: middle;\n",
       "    }\n",
       "\n",
       "    .dataframe tbody tr th {\n",
       "        vertical-align: top;\n",
       "    }\n",
       "\n",
       "    .dataframe thead th {\n",
       "        text-align: right;\n",
       "    }\n",
       "</style>\n",
       "<table border=\"1\" class=\"dataframe\">\n",
       "  <thead>\n",
       "    <tr style=\"text-align: right;\">\n",
       "      <th></th>\n",
       "      <th>values</th>\n",
       "    </tr>\n",
       "  </thead>\n",
       "  <tbody>\n",
       "    <tr>\n",
       "      <th>init</th>\n",
       "      <td>S5     49.40\n",
       "S6    221.35\n",
       "S7    405.65\n",
       "S8    2...</td>\n",
       "    </tr>\n",
       "    <tr>\n",
       "      <th>t0</th>\n",
       "      <td>0</td>\n",
       "    </tr>\n",
       "    <tr>\n",
       "      <th>t_end</th>\n",
       "      <td>100</td>\n",
       "    </tr>\n",
       "    <tr>\n",
       "      <th>beta5</th>\n",
       "      <td>1.7</td>\n",
       "    </tr>\n",
       "    <tr>\n",
       "      <th>beta6</th>\n",
       "      <td>1.29</td>\n",
       "    </tr>\n",
       "    <tr>\n",
       "      <th>beta7</th>\n",
       "      <td>1.15</td>\n",
       "    </tr>\n",
       "    <tr>\n",
       "      <th>beta8</th>\n",
       "      <td>1</td>\n",
       "    </tr>\n",
       "    <tr>\n",
       "      <th>beta9</th>\n",
       "      <td>1.49</td>\n",
       "    </tr>\n",
       "    <tr>\n",
       "      <th>beta</th>\n",
       "      <td>0.333</td>\n",
       "    </tr>\n",
       "    <tr>\n",
       "      <th>gamma</th>\n",
       "      <td>0.25</td>\n",
       "    </tr>\n",
       "  </tbody>\n",
       "</table>\n",
       "</div>"
      ],
      "text/plain": [
       "init     S5     49.40\n",
       "S6    221.35\n",
       "S7    405.65\n",
       "S8    2...\n",
       "t0                                                       0\n",
       "t_end                                                  100\n",
       "beta5                                                  1.7\n",
       "beta6                                                 1.29\n",
       "beta7                                                 1.15\n",
       "beta8                                                    1\n",
       "beta9                                                 1.49\n",
       "beta                                                 0.333\n",
       "gamma                                                 0.25\n",
       "dtype: object"
      ]
     },
     "execution_count": 6,
     "metadata": {},
     "output_type": "execute_result"
    }
   ],
   "source": [
    "sleepFive = 0.052\n",
    "sleepSix = 0.233\n",
    "sleepSeven = 0.427\n",
    "sleepNine = 0.05\n",
    "sleepEight = 1 - sleepFive - sleepSix - sleepSeven - sleepNine\n",
    "initialInfected = .05\n",
    "\n",
    "#Numbers made up currently\n",
    "beta5 = 1.7 #contact rate multiplier in for five hours of sleep\n",
    "beta6 = 1.29 #contact rate multiplier for six hours of sleep\n",
    "beta7 = 1.15 #contact rate multiplier for seven hours of sleep\n",
    "beta8 = 1.0 #contact rate multiplier for eight hours of sleep\n",
    "beta9 = 1.49 #contact rate multiplier for nine hours of sleep\n",
    "beta = 0.333\n",
    "gamma = 0.25\n",
    "system = make_system(sleepFive, sleepSix, sleepSeven, sleepEight, sleepNine, initialInfected, beta5, beta6, beta7, beta8, beta9, beta, gamma)"
   ]
  },
  {
   "cell_type": "code",
   "execution_count": 16,
   "metadata": {},
   "outputs": [],
   "source": [
    "def slope_func(state, t, system):\n",
    "    \"\"\"Update the SIR model.\n",
    "    \n",
    "    state: State (s5, s6, s7, s8, s9, i5, i6, i7, i8, i9, r)\n",
    "    t: time\n",
    "    system: System object\n",
    "    \n",
    "    returns: pair of derivatives\n",
    "    \"\"\" \n",
    "    s5, s6, s7, s8, s9, i5, i6, i7, i8, i9, r = state\n",
    "    unpack(system)\n",
    "    \n",
    "    s = s5 + s6 + s7 + s8 + s9 # Total susceptible\n",
    "    i = i5 + i6 + i7 + i8 + i9 # Total infected\n",
    "    \n",
    "    #VERIFY: Check: total change in infected = -(total change in susceptible) - (total change in recovered)\n",
    "    ds5dt = -(beta*beta5) * i * s5 #The change in the 5 hour of susceptible sleep group = infection rate * total infected * percent of susceptible that have 5 hours of sleep\n",
    "    di5dt = -ds5dt - gamma * i5 #Change in 5 hour of sleep infected group = change in susceptible group becoming infected - (recovery rate * percentage of infected that have 5 hours of sleep)\n",
    "    \n",
    "    ds6dt = -(beta*beta6) * i * s6\n",
    "    di6dt = -ds6dt - gamma * i6\n",
    "    \n",
    "    ds7dt = -(beta*beta7) * i * s7\n",
    "    di7dt = -ds7dt - gamma * i7\n",
    "    \n",
    "    ds8dt = -(beta*beta8) * i * s8\n",
    "    di8dt = -ds8dt - gamma * i8\n",
    "    \n",
    "    ds9dt = -(beta*beta9) * i * s9\n",
    "    di9dt = -ds9dt - gamma * i9\n",
    "\n",
    "    drdt = gamma * i\n",
    "    \n",
    "    print('i5 = ' , i5)\n",
    "    print('i6 = ' , i6)\n",
    "    print('i7 = ' , i7)\n",
    "    print('i8 = ' , i8)\n",
    "    print('i9 = ' , i9)      \n",
    "    print('i = ' , i)\n",
    "    \n",
    "    print('Check to make sure Total Infected Change = -(Total Susceptible Change) - (Total Recovered Change)')\n",
    "    TotalSchange = ds5dt + ds6dt + ds7dt + ds8dt + ds9dt\n",
    "    TotalIchange = di5dt + di6dt + di7dt + di8dt + di9dt\n",
    "    print('Total Infected Change = ' , TotalIchange)\n",
    "    print('Total Susceptible Change = ' , TotalSchange)\n",
    "    print('Total Recovered Change = ' , drdt)\n",
    "    print('-(Total Susceptible Change) - (Total Recovered Change) = ' , -TotalSchange - drdt)\n",
    "    #dsdt = -beta * i * s \n",
    "    #didt = beta * i * s - gamma * i\n",
    "    #drdt = gamma * i\n",
    "    \n",
    "    return ds5dt, di5dt, ds6dt, di6dt, ds7dt, di7dt, ds8dt, di8dt, ds9dt, di9dt, drdt"
   ]
  },
  {
   "cell_type": "code",
   "execution_count": 17,
   "metadata": {},
   "outputs": [
    {
     "name": "stdout",
     "output_type": "stream",
     "text": [
      "i5 =  2.6\n",
      "i6 =  11.65\n",
      "i7 =  21.35\n",
      "i8 =  11.9\n",
      "i9 =  2.5\n",
      "i =  50.0\n",
      "Check to make sure Total Infected Change = -(Total Susceptible Change) - (Total Recovered Change)\n",
      "Total Infected Change =  18850.185100000002\n",
      "Total Susceptible Change =  -18862.685100000002\n",
      "Total Recovered Change =  12.5\n",
      "-(Total Susceptible Change) - (Total Recovered Change) =  18850.185100000002\n"
     ]
    },
    {
     "data": {
      "text/plain": [
       "(-1398.267,\n",
       " 1397.617,\n",
       " -4754.265975000001,\n",
       " 4751.353475000001,\n",
       " -7767.183375,\n",
       " 7761.845875,\n",
       " -3764.5650000000005,\n",
       " 3761.5900000000006,\n",
       " -1178.40375,\n",
       " 1177.77875,\n",
       " 12.5)"
      ]
     },
     "execution_count": 17,
     "metadata": {},
     "output_type": "execute_result"
    }
   ],
   "source": [
    "slope_func(system.init, system.t0, system)"
   ]
  },
  {
   "cell_type": "code",
   "execution_count": 15,
   "metadata": {},
   "outputs": [
    {
     "data": {
      "text/html": [
       "<div>\n",
       "<style scoped>\n",
       "    .dataframe tbody tr th:only-of-type {\n",
       "        vertical-align: middle;\n",
       "    }\n",
       "\n",
       "    .dataframe tbody tr th {\n",
       "        vertical-align: top;\n",
       "    }\n",
       "\n",
       "    .dataframe thead th {\n",
       "        text-align: right;\n",
       "    }\n",
       "</style>\n",
       "<table border=\"1\" class=\"dataframe\">\n",
       "  <thead>\n",
       "    <tr style=\"text-align: right;\">\n",
       "      <th></th>\n",
       "      <th>values</th>\n",
       "    </tr>\n",
       "  </thead>\n",
       "  <tbody>\n",
       "    <tr>\n",
       "      <th>S5</th>\n",
       "      <td>49.40</td>\n",
       "    </tr>\n",
       "    <tr>\n",
       "      <th>S6</th>\n",
       "      <td>221.35</td>\n",
       "    </tr>\n",
       "    <tr>\n",
       "      <th>S7</th>\n",
       "      <td>405.65</td>\n",
       "    </tr>\n",
       "    <tr>\n",
       "      <th>S8</th>\n",
       "      <td>226.10</td>\n",
       "    </tr>\n",
       "    <tr>\n",
       "      <th>S9</th>\n",
       "      <td>47.50</td>\n",
       "    </tr>\n",
       "    <tr>\n",
       "      <th>I5</th>\n",
       "      <td>2.60</td>\n",
       "    </tr>\n",
       "    <tr>\n",
       "      <th>I6</th>\n",
       "      <td>11.65</td>\n",
       "    </tr>\n",
       "    <tr>\n",
       "      <th>I7</th>\n",
       "      <td>21.35</td>\n",
       "    </tr>\n",
       "    <tr>\n",
       "      <th>I8</th>\n",
       "      <td>11.90</td>\n",
       "    </tr>\n",
       "    <tr>\n",
       "      <th>I9</th>\n",
       "      <td>2.50</td>\n",
       "    </tr>\n",
       "    <tr>\n",
       "      <th>R</th>\n",
       "      <td>0.00</td>\n",
       "    </tr>\n",
       "  </tbody>\n",
       "</table>\n",
       "</div>"
      ],
      "text/plain": [
       "S5     49.40\n",
       "S6    221.35\n",
       "S7    405.65\n",
       "S8    226.10\n",
       "S9     47.50\n",
       "I5      2.60\n",
       "I6     11.65\n",
       "I7     21.35\n",
       "I8     11.90\n",
       "I9      2.50\n",
       "R       0.00\n",
       "dtype: float64"
      ]
     },
     "execution_count": 15,
     "metadata": {},
     "output_type": "execute_result"
    }
   ],
   "source": [
    "system.init"
   ]
  },
  {
   "cell_type": "code",
   "execution_count": 10,
   "metadata": {},
   "outputs": [
    {
     "ename": "NameError",
     "evalue": "name 'results' is not defined",
     "output_type": "error",
     "traceback": [
      "\u001b[0;31m---------------------------------------------------------------------------\u001b[0m",
      "\u001b[0;31mNameError\u001b[0m                                 Traceback (most recent call last)",
      "\u001b[0;32m<ipython-input-10-93a479bf92ff>\u001b[0m in \u001b[0;36m<module>\u001b[0;34m\u001b[0m\n\u001b[0;32m----> 1\u001b[0;31m \u001b[0mresults\u001b[0m\u001b[0;34m.\u001b[0m\u001b[0mplot\u001b[0m\u001b[0;34m(\u001b[0m\u001b[0;34m)\u001b[0m\u001b[0;34m\u001b[0m\u001b[0m\n\u001b[0m",
      "\u001b[0;31mNameError\u001b[0m: name 'results' is not defined"
     ]
    }
   ],
   "source": [
    "results.plot()"
   ]
  },
  {
   "cell_type": "code",
   "execution_count": 12,
   "metadata": {},
   "outputs": [
    {
     "data": {
      "text/plain": [
       "<matplotlib.axes._subplots.AxesSubplot at 0x7fa3ee5cbc50>"
      ]
     },
     "execution_count": 12,
     "metadata": {},
     "output_type": "execute_result"
    },
    {
     "data": {
      "image/png": "[encoded data removed]",
      "text/plain": [
       "<Figure size 432x288 with 1 Axes>"
      ]
     },
     "metadata": {
      "needs_background": "light"
     },
     "output_type": "display_data"
    }
   ],
   "source": [
    "results.plot()"
   ]
  },
  {
   "cell_type": "code",
   "execution_count": null,
   "metadata": {},
   "outputs": [],
   "source": []
  },
  {
   "cell_type": "code",
   "execution_count": null,
   "metadata": {},
   "outputs": [],
   "source": []
  }
 ],
 "metadata": {
  "kernelspec": {
   "display_name": "Python 3",
   "language": "python",
   "name": "python3"
  },
  "language_info": {
   "codemirror_mode": {
    "name": "ipython",
    "version": 3
   },
   "file_extension": ".py",
   "mimetype": "text/x-python",
   "name": "python",
   "nbconvert_exporter": "python",
   "pygments_lexer": "ipython3",
   "version": "3.6.6"
  }
 },
 "nbformat": 4,
 "nbformat_minor": 2
}
