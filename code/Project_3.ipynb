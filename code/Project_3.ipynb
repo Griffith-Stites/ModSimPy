{
 "cells": [
  {
   "cell_type": "markdown",
   "metadata": {},
   "source": [
    "# Project 3\n",
    "Griffith Stites and Alex Hindelang"
   ]
  },
  {
   "cell_type": "markdown",
   "metadata": {},
   "source": [
    "## Assumptions\n",
    "* Ignoring temperature changes for the fluid and how this effects density. Just choosing based off of the ideal temperature from the engineeringtoolbox chart\n",
    "* That the force of the penguin exerted on the fluid does not change based on fluid density."
   ]
  },
  {
   "cell_type": "markdown",
   "metadata": {},
   "source": [
    "## To Do\n",
    "* Make penguin mass changable\n",
    "* Make rho changeable\n",
    "* Write plotting function. Complete with rho values and penguin mass"
   ]
  },
  {
   "cell_type": "markdown",
   "metadata": {},
   "source": [
    "# Question"
   ]
  },
  {
   "cell_type": "code",
   "execution_count": 103,
   "metadata": {},
   "outputs": [],
   "source": [
    "# Configure Jupyter so figures appear in the notebook\n",
    "%matplotlib inline\n",
    "\n",
    "# Configure Jupyter to display the assigned value after an assignment\n",
    "%config InteractiveShell.ast_node_interactivity='last_expr_or_assign'\n",
    "\n",
    "# import functions from the modsim.py module\n",
    "from modsim import *"
   ]
  },
  {
   "cell_type": "markdown",
   "metadata": {},
   "source": [
    "# Model"
   ]
  },
  {
   "cell_type": "code",
   "execution_count": 41,
   "metadata": {},
   "outputs": [
    {
     "data": {
      "text/html": [
       "pound"
      ],
      "text/latex": [
       "$pound$"
      ],
      "text/plain": [
       "<Unit('pound')>"
      ]
     },
     "execution_count": 41,
     "metadata": {},
     "output_type": "execute_result"
    }
   ],
   "source": [
    "m = UNITS.meter\n",
    "s = UNITS.second\n",
    "kg = UNITS.kilogram\n",
    "km = UNITS.kilometer\n",
    "hr = UNITS.hour\n",
    "s = UNITS.second\n",
    "N = UNITS.newton\n",
    "lb = UNITS.pound"
   ]
  },
  {
   "cell_type": "markdown",
   "metadata": {},
   "source": [
    "rho_water\n",
    "\n",
    "C_d = Coeffient of drag of the penguin\n",
    "\n",
    "frontal_area = The frontal area of the penguin\n",
    "\n",
    "velocity_init = starting velocity of the penguin\n",
    "\n",
    "pool_length = length of the pool. An olympic swimming pool is 50 m\n",
    "\n",
    "C_d and frontal_area are currently for the gentoo penguin"
   ]
  },
  {
   "cell_type": "code",
   "execution_count": 151,
   "metadata": {},
   "outputs": [
    {
     "data": {
      "text/html": [
       "<div>\n",
       "<style scoped>\n",
       "    .dataframe tbody tr th:only-of-type {\n",
       "        vertical-align: middle;\n",
       "    }\n",
       "\n",
       "    .dataframe tbody tr th {\n",
       "        vertical-align: top;\n",
       "    }\n",
       "\n",
       "    .dataframe thead th {\n",
       "        text-align: right;\n",
       "    }\n",
       "</style>\n",
       "<table border=\"1\" class=\"dataframe\">\n",
       "  <thead>\n",
       "    <tr style=\"text-align: right;\">\n",
       "      <th></th>\n",
       "      <th>values</th>\n",
       "    </tr>\n",
       "  </thead>\n",
       "  <tbody>\n",
       "    <tr>\n",
       "      <th>rho</th>\n",
       "      <td>1025.0 kilogram / meter ** 3</td>\n",
       "    </tr>\n",
       "    <tr>\n",
       "      <th>C_d</th>\n",
       "      <td>0.07</td>\n",
       "    </tr>\n",
       "    <tr>\n",
       "      <th>frontal_area</th>\n",
       "      <td>0.02 meter ** 2</td>\n",
       "    </tr>\n",
       "    <tr>\n",
       "      <th>velocity_init</th>\n",
       "      <td>0.0 meter / second</td>\n",
       "    </tr>\n",
       "    <tr>\n",
       "      <th>pool_length</th>\n",
       "      <td>50 meter</td>\n",
       "    </tr>\n",
       "    <tr>\n",
       "      <th>penguin_mass</th>\n",
       "      <td>13 pound</td>\n",
       "    </tr>\n",
       "  </tbody>\n",
       "</table>\n",
       "</div>"
      ],
      "text/plain": [
       "rho              1025.0 kilogram / meter ** 3\n",
       "C_d                                      0.07\n",
       "frontal_area                  0.02 meter ** 2\n",
       "velocity_init              0.0 meter / second\n",
       "pool_length                          50 meter\n",
       "penguin_mass                         13 pound\n",
       "dtype: object"
      ]
     },
     "execution_count": 151,
     "metadata": {},
     "output_type": "execute_result"
    }
   ],
   "source": [
    "rho_water = 1000 * kg/m**3\n",
    "rho_sea_water = 1025 * kg/m**3\n",
    "rho_syrup = 1370 * kg/m**3\n",
    "rho_propyl_alcohol = 800 * kg/m**3\n",
    "rho_air = 1.2 * kg/m**3\n",
    "\n",
    "gentoo_mass = 13 * lb\n",
    "params = Params(rho = rho_sea_water,\n",
    "                C_d = 0.07,\n",
    "                frontal_area = 0.02 * m**2,\n",
    "                velocity_init = 0 * m / s,\n",
    "                pool_length = 50 * m,\n",
    "                penguin_mass = gentoo_mass\n",
    ")"
   ]
  },
  {
   "cell_type": "code",
   "execution_count": 152,
   "metadata": {},
   "outputs": [],
   "source": [
    "def make_system(params):\n",
    "    \"\"\"Make a system object.\n",
    "    \n",
    "    params: Params object with\n",
    "    \n",
    "    returns: System object\"\"\"\n",
    "    unpack(params)\n",
    "    init = State(x=0 * m, v=velocity_init)\n",
    "    t_end = 100 * s\n",
    "    \n",
    "    return System(params, init=init, t_end=t_end)"
   ]
  },
  {
   "cell_type": "code",
   "execution_count": 153,
   "metadata": {},
   "outputs": [
    {
     "data": {
      "text/html": [
       "<div>\n",
       "<style scoped>\n",
       "    .dataframe tbody tr th:only-of-type {\n",
       "        vertical-align: middle;\n",
       "    }\n",
       "\n",
       "    .dataframe tbody tr th {\n",
       "        vertical-align: top;\n",
       "    }\n",
       "\n",
       "    .dataframe thead th {\n",
       "        text-align: right;\n",
       "    }\n",
       "</style>\n",
       "<table border=\"1\" class=\"dataframe\">\n",
       "  <thead>\n",
       "    <tr style=\"text-align: right;\">\n",
       "      <th></th>\n",
       "      <th>values</th>\n",
       "    </tr>\n",
       "  </thead>\n",
       "  <tbody>\n",
       "    <tr>\n",
       "      <th>rho</th>\n",
       "      <td>1025.0 kilogram / meter ** 3</td>\n",
       "    </tr>\n",
       "    <tr>\n",
       "      <th>C_d</th>\n",
       "      <td>0.07</td>\n",
       "    </tr>\n",
       "    <tr>\n",
       "      <th>frontal_area</th>\n",
       "      <td>0.02 meter ** 2</td>\n",
       "    </tr>\n",
       "    <tr>\n",
       "      <th>velocity_init</th>\n",
       "      <td>0.0 meter / second</td>\n",
       "    </tr>\n",
       "    <tr>\n",
       "      <th>pool_length</th>\n",
       "      <td>50 meter</td>\n",
       "    </tr>\n",
       "    <tr>\n",
       "      <th>penguin_mass</th>\n",
       "      <td>13 pound</td>\n",
       "    </tr>\n",
       "    <tr>\n",
       "      <th>init</th>\n",
       "      <td>x               0 meter\n",
       "v    0.0 meter / secon...</td>\n",
       "    </tr>\n",
       "    <tr>\n",
       "      <th>t_end</th>\n",
       "      <td>100 second</td>\n",
       "    </tr>\n",
       "  </tbody>\n",
       "</table>\n",
       "</div>"
      ],
      "text/plain": [
       "rho                                   1025.0 kilogram / meter ** 3\n",
       "C_d                                                           0.07\n",
       "frontal_area                                       0.02 meter ** 2\n",
       "velocity_init                                   0.0 meter / second\n",
       "pool_length                                               50 meter\n",
       "penguin_mass                                              13 pound\n",
       "init             x               0 meter\n",
       "v    0.0 meter / secon...\n",
       "t_end                                                   100 second\n",
       "dtype: object"
      ]
     },
     "execution_count": 153,
     "metadata": {},
     "output_type": "execute_result"
    }
   ],
   "source": [
    "system = make_system(params)"
   ]
  },
  {
   "cell_type": "code",
   "execution_count": 154,
   "metadata": {},
   "outputs": [],
   "source": [
    "def force_drag(V, system):\n",
    "    \"\"\"Computes drag force in the opposite direction of 'v'.\n",
    "    \n",
    "    V: velocity\n",
    "    system: System object with rho, C_d, area\n",
    "    \n",
    "    returns: scalar drag force\n",
    "    \"\"\"\n",
    "    unpack(system)\n",
    "    f_drag_mag = -rho * V**2 * C_d * frontal_area / 2\n",
    "    return f_drag_mag"
   ]
  },
  {
   "cell_type": "markdown",
   "metadata": {},
   "source": [
    "Force of the penguin can be determined by finding the maximum speed of a penguin in salt water. Assuming that the drag force of the salt water is equal to the force of the penguin swimming and by knowing the drag coefficient of the penguin we can determine the swimming force of the penguin."
   ]
  },
  {
   "cell_type": "code",
   "execution_count": 135,
   "metadata": {},
   "outputs": [],
   "source": [
    "def force_penguin(max_speed, system):\n",
    "    \"\"\"Computes the force the penguin exerts on the fluid.\n",
    "    \n",
    "    max_speed: max speed in the fluid\n",
    "    system: System object with rho, C_d, area\n",
    "    \n",
    "    returns: scalar penguin force\"\"\"\n",
    "    f_drag = force_drag(max_speed, system)\n",
    "    f_penguin = - f_drag\n",
    "    return f_penguin"
   ]
  },
  {
   "cell_type": "markdown",
   "metadata": {},
   "source": [
    "Testing force_penguin\n"
   ]
  },
  {
   "cell_type": "code",
   "execution_count": 136,
   "metadata": {},
   "outputs": [
    {
     "data": {
      "text/html": [
       "71.75000000000001 kilogram meter/second<sup>2</sup>"
      ],
      "text/latex": [
       "$71.75000000000001 \\frac{kilogram \\cdot meter}{second^{2}}$"
      ],
      "text/plain": [
       "<Quantity(71.75000000000001, 'kilogram * meter / second ** 2')>"
      ]
     },
     "execution_count": 136,
     "metadata": {},
     "output_type": "execute_result"
    }
   ],
   "source": [
    "gentoo_max_speed = 36 * km / hr\n",
    "gentoo_max_speed = 10 * m / s\n",
    "force_penguin = force_penguin(gentoo_max_speed, system)"
   ]
  },
  {
   "cell_type": "code",
   "execution_count": 137,
   "metadata": {},
   "outputs": [],
   "source": [
    "def slope_func(state, t, system):\n",
    "    \"\"\"Computes derivatives of the state variables.\n",
    "    \n",
    "    state: State ()\n",
    "    t: time\n",
    "    system: System object with\n",
    "    \n",
    "    returns: derivatives of y and v\n",
    "    \"\"\"\n",
    "    x, v = state\n",
    "    unpack(system)    \n",
    "\n",
    "    f_drag = force_drag(v, system)\n",
    "    f_penguin = force_penguin\n",
    "    \n",
    "    f_total = f_penguin + f_drag\n",
    "    \n",
    "    dydt = v\n",
    "    dvdt = f_total / penguin_mass #acceleration\n",
    "    \n",
    "    return dydt, dvdt"
   ]
  },
  {
   "cell_type": "markdown",
   "metadata": {},
   "source": [
    "Testing the slope_func"
   ]
  },
  {
   "cell_type": "code",
   "execution_count": 138,
   "metadata": {},
   "outputs": [
    {
     "name": "stdout",
     "output_type": "stream",
     "text": [
      "0.0 meter / second\n",
      "5.51923076923077 kilogram * meter / pound / second ** 2\n"
     ]
    }
   ],
   "source": [
    "dydt, dvdt = slope_func(init, 0, system)\n",
    "print(dydt)\n",
    "print(dvdt)"
   ]
  },
  {
   "cell_type": "code",
   "execution_count": 148,
   "metadata": {},
   "outputs": [],
   "source": [
    "def event_func(state, t, system):\n",
    "    \"\"\"Return the ditance of the penguin in the pool.\n",
    "    \"\"\"\n",
    "    x, v = state\n",
    "    return x - system.pool_length"
   ]
  },
  {
   "cell_type": "markdown",
   "metadata": {},
   "source": [
    "# Results"
   ]
  },
  {
   "cell_type": "code",
   "execution_count": 149,
   "metadata": {},
   "outputs": [
    {
     "data": {
      "text/html": [
       "<div>\n",
       "<style scoped>\n",
       "    .dataframe tbody tr th:only-of-type {\n",
       "        vertical-align: middle;\n",
       "    }\n",
       "\n",
       "    .dataframe tbody tr th {\n",
       "        vertical-align: top;\n",
       "    }\n",
       "\n",
       "    .dataframe thead th {\n",
       "        text-align: right;\n",
       "    }\n",
       "</style>\n",
       "<table border=\"1\" class=\"dataframe\">\n",
       "  <thead>\n",
       "    <tr style=\"text-align: right;\">\n",
       "      <th></th>\n",
       "      <th>values</th>\n",
       "    </tr>\n",
       "  </thead>\n",
       "  <tbody>\n",
       "    <tr>\n",
       "      <th>sol</th>\n",
       "      <td>None</td>\n",
       "    </tr>\n",
       "    <tr>\n",
       "      <th>t_events</th>\n",
       "      <td>[[5.569349434087116]]</td>\n",
       "    </tr>\n",
       "    <tr>\n",
       "      <th>nfev</th>\n",
       "      <td>80</td>\n",
       "    </tr>\n",
       "    <tr>\n",
       "      <th>njev</th>\n",
       "      <td>0</td>\n",
       "    </tr>\n",
       "    <tr>\n",
       "      <th>nlu</th>\n",
       "      <td>0</td>\n",
       "    </tr>\n",
       "    <tr>\n",
       "      <th>status</th>\n",
       "      <td>1</td>\n",
       "    </tr>\n",
       "    <tr>\n",
       "      <th>message</th>\n",
       "      <td>A termination event occurred.</td>\n",
       "    </tr>\n",
       "    <tr>\n",
       "      <th>success</th>\n",
       "      <td>True</td>\n",
       "    </tr>\n",
       "  </tbody>\n",
       "</table>\n",
       "</div>"
      ],
      "text/plain": [
       "sol                                  None\n",
       "t_events            [[5.569349434087116]]\n",
       "nfev                                   80\n",
       "njev                                    0\n",
       "nlu                                     0\n",
       "status                                  1\n",
       "message     A termination event occurred.\n",
       "success                              True\n",
       "dtype: object"
      ]
     },
     "execution_count": 149,
     "metadata": {},
     "output_type": "execute_result"
    }
   ],
   "source": [
    "results, details = run_ode_solver(system, slope_func, events=event_func)\n",
    "details"
   ]
  },
  {
   "cell_type": "code",
   "execution_count": 150,
   "metadata": {},
   "outputs": [
    {
     "data": {
      "text/html": [
       "<div>\n",
       "<style scoped>\n",
       "    .dataframe tbody tr th:only-of-type {\n",
       "        vertical-align: middle;\n",
       "    }\n",
       "\n",
       "    .dataframe tbody tr th {\n",
       "        vertical-align: top;\n",
       "    }\n",
       "\n",
       "    .dataframe thead th {\n",
       "        text-align: right;\n",
       "    }\n",
       "</style>\n",
       "<table border=\"1\" class=\"dataframe\">\n",
       "  <thead>\n",
       "    <tr style=\"text-align: right;\">\n",
       "      <th></th>\n",
       "      <th>x</th>\n",
       "      <th>v</th>\n",
       "    </tr>\n",
       "  </thead>\n",
       "  <tbody>\n",
       "    <tr>\n",
       "      <th>0.000000</th>\n",
       "      <td>0.000000e+00</td>\n",
       "      <td>0.000000</td>\n",
       "    </tr>\n",
       "    <tr>\n",
       "      <th>0.000100</th>\n",
       "      <td>6.083910e-08</td>\n",
       "      <td>0.001217</td>\n",
       "    </tr>\n",
       "    <tr>\n",
       "      <th>0.001100</th>\n",
       "      <td>7.361530e-06</td>\n",
       "      <td>0.013385</td>\n",
       "    </tr>\n",
       "    <tr>\n",
       "      <th>0.011100</th>\n",
       "      <td>7.495758e-04</td>\n",
       "      <td>0.135055</td>\n",
       "    </tr>\n",
       "    <tr>\n",
       "      <th>0.111100</th>\n",
       "      <td>7.486737e-02</td>\n",
       "      <td>1.343670</td>\n",
       "    </tr>\n",
       "    <tr>\n",
       "      <th>0.580890</th>\n",
       "      <td>1.901737e+00</td>\n",
       "      <td>6.086846</td>\n",
       "    </tr>\n",
       "    <tr>\n",
       "      <th>1.114761</th>\n",
       "      <td>5.980395e+00</td>\n",
       "      <td>8.757309</td>\n",
       "    </tr>\n",
       "    <tr>\n",
       "      <th>1.679273</th>\n",
       "      <td>1.123676e+01</td>\n",
       "      <td>9.670216</td>\n",
       "    </tr>\n",
       "    <tr>\n",
       "      <th>2.269910</th>\n",
       "      <td>1.703982e+01</td>\n",
       "      <td>9.919746</td>\n",
       "    </tr>\n",
       "    <tr>\n",
       "      <th>3.010465</th>\n",
       "      <td>2.441846e+01</td>\n",
       "      <td>9.985304</td>\n",
       "    </tr>\n",
       "    <tr>\n",
       "      <th>3.962686</th>\n",
       "      <td>3.393582e+01</td>\n",
       "      <td>9.997125</td>\n",
       "    </tr>\n",
       "    <tr>\n",
       "      <th>5.259715</th>\n",
       "      <td>4.690584e+01</td>\n",
       "      <td>9.997812</td>\n",
       "    </tr>\n",
       "    <tr>\n",
       "      <th>5.569349</th>\n",
       "      <td>5.000000e+01</td>\n",
       "      <td>10.003149</td>\n",
       "    </tr>\n",
       "  </tbody>\n",
       "</table>\n",
       "</div>"
      ],
      "text/plain": [
       "                     x          v\n",
       "0.000000  0.000000e+00   0.000000\n",
       "0.000100  6.083910e-08   0.001217\n",
       "0.001100  7.361530e-06   0.013385\n",
       "0.011100  7.495758e-04   0.135055\n",
       "0.111100  7.486737e-02   1.343670\n",
       "0.580890  1.901737e+00   6.086846\n",
       "1.114761  5.980395e+00   8.757309\n",
       "1.679273  1.123676e+01   9.670216\n",
       "2.269910  1.703982e+01   9.919746\n",
       "3.010465  2.441846e+01   9.985304\n",
       "3.962686  3.393582e+01   9.997125\n",
       "5.259715  4.690584e+01   9.997812\n",
       "5.569349  5.000000e+01  10.003149"
      ]
     },
     "execution_count": 150,
     "metadata": {},
     "output_type": "execute_result"
    }
   ],
   "source": [
    "results"
   ]
  },
  {
   "cell_type": "markdown",
   "metadata": {},
   "source": [
    "Testing the Gentoo penguin in the different substances."
   ]
  },
  {
   "cell_type": "code",
   "execution_count": 162,
   "metadata": {},
   "outputs": [
    {
     "data": {
      "text/html": [
       "<div>\n",
       "<style scoped>\n",
       "    .dataframe tbody tr th:only-of-type {\n",
       "        vertical-align: middle;\n",
       "    }\n",
       "\n",
       "    .dataframe tbody tr th {\n",
       "        vertical-align: top;\n",
       "    }\n",
       "\n",
       "    .dataframe thead th {\n",
       "        text-align: right;\n",
       "    }\n",
       "</style>\n",
       "<table border=\"1\" class=\"dataframe\">\n",
       "  <thead>\n",
       "    <tr style=\"text-align: right;\">\n",
       "      <th></th>\n",
       "      <th>values</th>\n",
       "    </tr>\n",
       "  </thead>\n",
       "  <tbody>\n",
       "    <tr>\n",
       "      <th>rho</th>\n",
       "      <td>1.2 kilogram / meter ** 3</td>\n",
       "    </tr>\n",
       "    <tr>\n",
       "      <th>C_d</th>\n",
       "      <td>0.07</td>\n",
       "    </tr>\n",
       "    <tr>\n",
       "      <th>frontal_area</th>\n",
       "      <td>0.02 meter ** 2</td>\n",
       "    </tr>\n",
       "    <tr>\n",
       "      <th>velocity_init</th>\n",
       "      <td>0.0 meter / second</td>\n",
       "    </tr>\n",
       "    <tr>\n",
       "      <th>pool_length</th>\n",
       "      <td>50 meter</td>\n",
       "    </tr>\n",
       "    <tr>\n",
       "      <th>penguin_mass</th>\n",
       "      <td>13 pound</td>\n",
       "    </tr>\n",
       "    <tr>\n",
       "      <th>init</th>\n",
       "      <td>x               0 meter\n",
       "v    0.0 meter / secon...</td>\n",
       "    </tr>\n",
       "    <tr>\n",
       "      <th>t_end</th>\n",
       "      <td>100 second</td>\n",
       "    </tr>\n",
       "  </tbody>\n",
       "</table>\n",
       "</div>"
      ],
      "text/plain": [
       "rho                                      1.2 kilogram / meter ** 3\n",
       "C_d                                                           0.07\n",
       "frontal_area                                       0.02 meter ** 2\n",
       "velocity_init                                   0.0 meter / second\n",
       "pool_length                                               50 meter\n",
       "penguin_mass                                              13 pound\n",
       "init             x               0 meter\n",
       "v    0.0 meter / secon...\n",
       "t_end                                                   100 second\n",
       "dtype: object"
      ]
     },
     "execution_count": 162,
     "metadata": {},
     "output_type": "execute_result"
    }
   ],
   "source": [
    "params.rho = rho_sea_water\n",
    "system = make_system(params)\n",
    "results, details = run_ode_solver(system, slope_func, events=event_func)"
   ]
  },
  {
   "cell_type": "markdown",
   "metadata": {},
   "source": [
    "The original question that inspired us to make this model: What happens if a penguin swims in syrup? (Ignoring the sugary effect on the penguin. I choose to believe that the penguin would just want to eat it right up)."
   ]
  },
  {
   "cell_type": "code",
   "execution_count": 163,
   "metadata": {},
   "outputs": [],
   "source": [
    "params.rho = rho_syrup\n",
    "system = make_system(params)\n",
    "results, details = run_ode_solver(system, slope_func, events=event_func)"
   ]
  },
  {
   "cell_type": "code",
   "execution_count": 164,
   "metadata": {},
   "outputs": [],
   "source": [
    "params.rho = rho_propyl_alcohol\n",
    "system = make_system(params)\n",
    "results, details = run_ode_solver(system, slope_func, events=event_func)"
   ]
  },
  {
   "cell_type": "code",
   "execution_count": 166,
   "metadata": {},
   "outputs": [],
   "source": [
    "params.rho = rho_air\n",
    "system = make_system(params)\n",
    "results, details = run_ode_solver(system, slope_func, events=event_func)"
   ]
  },
  {
   "cell_type": "markdown",
   "metadata": {},
   "source": [
    "Trying the sea water results with a different penguin."
   ]
  },
  {
   "cell_type": "code",
   "execution_count": 161,
   "metadata": {},
   "outputs": [
    {
     "ename": "SyntaxError",
     "evalue": "invalid syntax (<ipython-input-161-22758934b8d9>, line 1)",
     "output_type": "error",
     "traceback": [
      "\u001b[1;36m  File \u001b[1;32m\"<ipython-input-161-22758934b8d9>\"\u001b[1;36m, line \u001b[1;32m1\u001b[0m\n\u001b[1;33m    params.penguin_mass =\u001b[0m\n\u001b[1;37m                          ^\u001b[0m\n\u001b[1;31mSyntaxError\u001b[0m\u001b[1;31m:\u001b[0m invalid syntax\n"
     ]
    }
   ],
   "source": [
    "params.penguin_mass = \n",
    "\n",
    "gentoo_max_speed = 36 * km / hr\n",
    "gentoo_max_speed = 10 * m / s\n",
    "#To do the penguin force calculation, the rho must be the rho of the material the data was gathered in\n",
    "params.rho = rho_sea_water \n",
    "force_penguin = force_penguin(gentoo_max_speed, system)\n",
    "system = make_system(params)"
   ]
  },
  {
   "cell_type": "markdown",
   "metadata": {},
   "source": [
    "# Interpretation"
   ]
  },
  {
   "cell_type": "code",
   "execution_count": null,
   "metadata": {},
   "outputs": [],
   "source": []
  }
 ],
 "metadata": {
  "kernelspec": {
   "display_name": "Python 3",
   "language": "python",
   "name": "python3"
  },
  "language_info": {
   "codemirror_mode": {
    "name": "ipython",
    "version": 3
   },
   "file_extension": ".py",
   "mimetype": "text/x-python",
   "name": "python",
   "nbconvert_exporter": "python",
   "pygments_lexer": "ipython3",
   "version": "3.6.5"
  }
 },
 "nbformat": 4,
 "nbformat_minor": 2
}
