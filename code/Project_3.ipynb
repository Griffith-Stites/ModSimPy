{
 "cells": [
  {
   "cell_type": "markdown",
   "metadata": {},
   "source": [
    "# Project 3\n",
    "Griffith Stites and Alex Hindelang"
   ]
  },
  {
   "cell_type": "markdown",
   "metadata": {},
   "source": [
    "## Assumptions\n",
    "* Ignoring temperature changes for the fluid and how this effects density. Just choosing based off of the ideal temperature from the engineeringtoolbox chart\n",
    "* That the force of the penguin exerted on the fluid does not change based on fluid density."
   ]
  },
  {
   "cell_type": "markdown",
   "metadata": {},
   "source": [
    "# Question"
   ]
  },
  {
   "cell_type": "code",
   "execution_count": 4,
   "metadata": {},
   "outputs": [],
   "source": [
    "# Configure Jupyter so figures appear in the notebook\n",
    "%matplotlib inline\n",
    "\n",
    "# Configure Jupyter to display the assigned value after an assignment\n",
    "%config InteractiveShell.ast_node_interactivity='last_expr_or_assign'\n",
    "\n",
    "# import functions from the modsim.py module\n",
    "from modsim import *"
   ]
  },
  {
   "cell_type": "markdown",
   "metadata": {},
   "source": [
    "# Model"
   ]
  },
  {
   "cell_type": "code",
   "execution_count": 93,
   "metadata": {},
   "outputs": [
    {
     "data": {
      "text/html": [
       "newton"
      ],
      "text/latex": [
       "$newton$"
      ],
      "text/plain": [
       "<Unit('newton')>"
      ]
     },
     "execution_count": 93,
     "metadata": {},
     "output_type": "execute_result"
    }
   ],
   "source": [
    "m = UNITS.meter\n",
    "s = UNITS.second\n",
    "kg = UNITS.kilogram\n",
    "km = UNITS.kilometer\n",
    "hr = UNITS.hour\n",
    "s = UNITS.second\n",
    "N = UNITS.newton"
   ]
  },
  {
   "cell_type": "markdown",
   "metadata": {},
   "source": [
    "rho_water\n",
    "\n",
    "C_d = Coeffient of drag of the penguin\n",
    "\n",
    "frontal_area = The frontal area of the penguin\n",
    "\n",
    "velocity_init = starting velocity of the penguin\n",
    "\n",
    "pool_length = length of the pool. An olympic swimming pool is 50 m\n",
    "\n",
    "C_d and frontal_area are currently for the gentoo penguin"
   ]
  },
  {
   "cell_type": "code",
   "execution_count": 40,
   "metadata": {},
   "outputs": [
    {
     "data": {
      "text/html": [
       "<div>\n",
       "<style scoped>\n",
       "    .dataframe tbody tr th:only-of-type {\n",
       "        vertical-align: middle;\n",
       "    }\n",
       "\n",
       "    .dataframe tbody tr th {\n",
       "        vertical-align: top;\n",
       "    }\n",
       "\n",
       "    .dataframe thead th {\n",
       "        text-align: right;\n",
       "    }\n",
       "</style>\n",
       "<table border=\"1\" class=\"dataframe\">\n",
       "  <thead>\n",
       "    <tr style=\"text-align: right;\">\n",
       "      <th></th>\n",
       "      <th>values</th>\n",
       "    </tr>\n",
       "  </thead>\n",
       "  <tbody>\n",
       "    <tr>\n",
       "      <th>rho_water</th>\n",
       "      <td>1000.0 kilogram / meter ** 3</td>\n",
       "    </tr>\n",
       "    <tr>\n",
       "      <th>rho_sea_water</th>\n",
       "      <td>1025.0 kilogram / meter ** 3</td>\n",
       "    </tr>\n",
       "    <tr>\n",
       "      <th>rho_syrup</th>\n",
       "      <td>1370.0 kilogram / meter ** 3</td>\n",
       "    </tr>\n",
       "    <tr>\n",
       "      <th>rho_propyl_alcohol</th>\n",
       "      <td>800.0 kilogram / meter ** 3</td>\n",
       "    </tr>\n",
       "    <tr>\n",
       "      <th>rho_air</th>\n",
       "      <td>1.2 kilogram / meter ** 3</td>\n",
       "    </tr>\n",
       "    <tr>\n",
       "      <th>C_d</th>\n",
       "      <td>0.07</td>\n",
       "    </tr>\n",
       "    <tr>\n",
       "      <th>frontal_area</th>\n",
       "      <td>0.02 meter ** 2</td>\n",
       "    </tr>\n",
       "    <tr>\n",
       "      <th>velocity_init</th>\n",
       "      <td>0.0 meter / second</td>\n",
       "    </tr>\n",
       "    <tr>\n",
       "      <th>pool_length</th>\n",
       "      <td>50 meter</td>\n",
       "    </tr>\n",
       "  </tbody>\n",
       "</table>\n",
       "</div>"
      ],
      "text/plain": [
       "rho_water             1000.0 kilogram / meter ** 3\n",
       "rho_sea_water         1025.0 kilogram / meter ** 3\n",
       "rho_syrup             1370.0 kilogram / meter ** 3\n",
       "rho_propyl_alcohol     800.0 kilogram / meter ** 3\n",
       "rho_air                  1.2 kilogram / meter ** 3\n",
       "C_d                                           0.07\n",
       "frontal_area                       0.02 meter ** 2\n",
       "velocity_init                   0.0 meter / second\n",
       "pool_length                               50 meter\n",
       "dtype: object"
      ]
     },
     "execution_count": 40,
     "metadata": {},
     "output_type": "execute_result"
    }
   ],
   "source": [
    "params = Params(rho_water = 1000 * kg/m**3,\n",
    "                rho_sea_water = 1025 * kg/m**3,\n",
    "                rho_syrup = 1370 * kg/m**3,\n",
    "                rho_propyl_alcohol = 800 * kg/m**3,\n",
    "                rho_air = 1.2 * kg/m**3,\n",
    "                C_d = 0.07,\n",
    "                frontal_area = 0.02 * m**2,\n",
    "                velocity_init = 0 * m / s,\n",
    "                pool_length = 50 * m\n",
    ")"
   ]
  },
  {
   "cell_type": "code",
   "execution_count": 44,
   "metadata": {},
   "outputs": [],
   "source": [
    "def make_system(params):\n",
    "    \"\"\"Make a system object.\n",
    "    \n",
    "    params: Params object with\n",
    "    \n",
    "    returns: System object\"\"\"\n",
    "    unpack(params)\n",
    "    init = State(x=pool_length, v=velocity_init)\n",
    "    t_end = 100 * s\n",
    "    \n",
    "    return System(params, init=init, t_end=t_end)"
   ]
  },
  {
   "cell_type": "code",
   "execution_count": 45,
   "metadata": {},
   "outputs": [
    {
     "data": {
      "text/html": [
       "<div>\n",
       "<style scoped>\n",
       "    .dataframe tbody tr th:only-of-type {\n",
       "        vertical-align: middle;\n",
       "    }\n",
       "\n",
       "    .dataframe tbody tr th {\n",
       "        vertical-align: top;\n",
       "    }\n",
       "\n",
       "    .dataframe thead th {\n",
       "        text-align: right;\n",
       "    }\n",
       "</style>\n",
       "<table border=\"1\" class=\"dataframe\">\n",
       "  <thead>\n",
       "    <tr style=\"text-align: right;\">\n",
       "      <th></th>\n",
       "      <th>values</th>\n",
       "    </tr>\n",
       "  </thead>\n",
       "  <tbody>\n",
       "    <tr>\n",
       "      <th>rho_water</th>\n",
       "      <td>1000.0 kilogram / meter ** 3</td>\n",
       "    </tr>\n",
       "    <tr>\n",
       "      <th>rho_sea_water</th>\n",
       "      <td>1025.0 kilogram / meter ** 3</td>\n",
       "    </tr>\n",
       "    <tr>\n",
       "      <th>rho_syrup</th>\n",
       "      <td>1370.0 kilogram / meter ** 3</td>\n",
       "    </tr>\n",
       "    <tr>\n",
       "      <th>rho_propyl_alcohol</th>\n",
       "      <td>800.0 kilogram / meter ** 3</td>\n",
       "    </tr>\n",
       "    <tr>\n",
       "      <th>rho_air</th>\n",
       "      <td>1.2 kilogram / meter ** 3</td>\n",
       "    </tr>\n",
       "    <tr>\n",
       "      <th>C_d</th>\n",
       "      <td>0.07</td>\n",
       "    </tr>\n",
       "    <tr>\n",
       "      <th>frontal_area</th>\n",
       "      <td>0.02 meter ** 2</td>\n",
       "    </tr>\n",
       "    <tr>\n",
       "      <th>velocity_init</th>\n",
       "      <td>0.0 meter / second</td>\n",
       "    </tr>\n",
       "    <tr>\n",
       "      <th>pool_length</th>\n",
       "      <td>50 meter</td>\n",
       "    </tr>\n",
       "    <tr>\n",
       "      <th>init</th>\n",
       "      <td>x              50 meter\n",
       "v    0.0 meter / secon...</td>\n",
       "    </tr>\n",
       "    <tr>\n",
       "      <th>t_end</th>\n",
       "      <td>100 second</td>\n",
       "    </tr>\n",
       "  </tbody>\n",
       "</table>\n",
       "</div>"
      ],
      "text/plain": [
       "rho_water                                  1000.0 kilogram / meter ** 3\n",
       "rho_sea_water                              1025.0 kilogram / meter ** 3\n",
       "rho_syrup                                  1370.0 kilogram / meter ** 3\n",
       "rho_propyl_alcohol                          800.0 kilogram / meter ** 3\n",
       "rho_air                                       1.2 kilogram / meter ** 3\n",
       "C_d                                                                0.07\n",
       "frontal_area                                            0.02 meter ** 2\n",
       "velocity_init                                        0.0 meter / second\n",
       "pool_length                                                    50 meter\n",
       "init                  x              50 meter\n",
       "v    0.0 meter / secon...\n",
       "t_end                                                        100 second\n",
       "dtype: object"
      ]
     },
     "execution_count": 45,
     "metadata": {},
     "output_type": "execute_result"
    }
   ],
   "source": [
    "system = make_system(params)"
   ]
  },
  {
   "cell_type": "code",
   "execution_count": 84,
   "metadata": {},
   "outputs": [],
   "source": [
    "def force_drag(V, system, rho):\n",
    "    \"\"\"Computes drag force in the opposite direction of 'v'.\n",
    "    \n",
    "    V: velocity\n",
    "    system: System object with rho, C_d, area\n",
    "    rho: rho of the fluid in question\n",
    "    \n",
    "    returns: scalar drag force\n",
    "    \"\"\"\n",
    "    unpack(system)\n",
    "    f_drag_mag = -rho * V**2 * C_d * frontal_area / 2\n",
    "    return f_drag_mag"
   ]
  },
  {
   "cell_type": "markdown",
   "metadata": {},
   "source": [
    "Force of the penguin can be determined by finding the maximum speed of a penguin in salt water. Assuming that the drag force of the salt water is equal to the force of the penguin swimming and by knowing the drag coefficient of the penguin we can determine the swimming force of the penguin."
   ]
  },
  {
   "cell_type": "code",
   "execution_count": 99,
   "metadata": {},
   "outputs": [],
   "source": [
    "def force_penguin(max_speed, system, rho):\n",
    "    \"\"\"Computes the force the penguin exerts on the fluid.\n",
    "    \n",
    "    max_speed: max speed in the fluid\n",
    "    rho: density of the fluid where the penguin reached the max speed\n",
    "    \n",
    "    returns: scalar penguin force\"\"\"\n",
    "    f_drag = force_drag(max_speed, system, rho)\n",
    "    f_penguin = - f_drag\n",
    "    return f_penguin"
   ]
  },
  {
   "cell_type": "code",
   "execution_count": 98,
   "metadata": {},
   "outputs": [
    {
     "data": {
      "text/html": [
       "71.75000000000001 kilogram meter/second<sup>2</sup>"
      ],
      "text/latex": [
       "$71.75000000000001 \\frac{kilogram \\cdot meter}{second^{2}}$"
      ],
      "text/plain": [
       "<Quantity(71.75000000000001, 'kilogram * meter / second ** 2')>"
      ]
     },
     "execution_count": 98,
     "metadata": {},
     "output_type": "execute_result"
    }
   ],
   "source": [
    "gentoo_max_speed = 36 * km / hr #Not converting units\n",
    "gentoo_max_speed = 10 * m / s\n",
    "force_gentoo = force_penguin(gentoo_max_speed, system, system.rho_sea_water)"
   ]
  },
  {
   "cell_type": "code",
   "execution_count": 87,
   "metadata": {},
   "outputs": [],
   "source": [
    "def slope_func(state, t, system):\n",
    "    \"\"\"Computes derivatives of the state variables.\n",
    "    \n",
    "    state: State ()\n",
    "    t: time\n",
    "    system: System object with\n",
    "    \n",
    "    returns: \"\"\""
   ]
  },
  {
   "cell_type": "markdown",
   "metadata": {},
   "source": [
    "# Results"
   ]
  },
  {
   "cell_type": "markdown",
   "metadata": {},
   "source": [
    "# Interpretation"
   ]
  },
  {
   "cell_type": "code",
   "execution_count": null,
   "metadata": {},
   "outputs": [],
   "source": []
  }
 ],
 "metadata": {
  "kernelspec": {
   "display_name": "Python 3",
   "language": "python",
   "name": "python3"
  },
  "language_info": {
   "codemirror_mode": {
    "name": "ipython",
    "version": 3
   },
   "file_extension": ".py",
   "mimetype": "text/x-python",
   "name": "python",
   "nbconvert_exporter": "python",
   "pygments_lexer": "ipython3",
   "version": "3.6.6"
  }
 },
 "nbformat": 4,
 "nbformat_minor": 2
}
