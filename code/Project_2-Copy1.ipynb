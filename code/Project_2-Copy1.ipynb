{
 "cells": [
  {
   "cell_type": "markdown",
   "metadata": {},
   "source": [
    "# Project 2\n",
    "\n",
    "Griffith and Becca"
   ]
  },
  {
   "cell_type": "markdown",
   "metadata": {},
   "source": [
    "# Q: How does not getting an appropriate of sleep effect the spread of sickness?\n",
    "\n",
    "An inappropriate amount of sleep - either too little or too much - can weaken the immune system. This can make it easier for individuals to become infected by a sickness. \n",
    "\n",
    "# This model aims to determine how having different percentages of the population with different amounts of sleep effects the spread of a sickness accross that population.\n",
    "\n",
    "# To Do\n",
    "* Fix make_system to work such that infected and susceptible add up to 1000, right now they add up to 2000.\n",
    "* Survey with Olin students, how much sleep do they get?\n",
    "* Implement number of Olin students into total enrollment (335). Make sure to prevent fractional students!"
   ]
  },
  {
   "cell_type": "code",
   "execution_count": 1,
   "metadata": {},
   "outputs": [],
   "source": [
    "# Configure Jupyter so figures appear in the notebook\n",
    "%matplotlib inline\n",
    "\n",
    "# Configure Jupyter to display the assigned value after an assignment\n",
    "%config InteractiveShell.ast_node_interactivity='last_expr_or_assign'\n",
    "\n",
    "# import functions from the modsim.py module\n",
    "from modsim import *"
   ]
  },
  {
   "cell_type": "markdown",
   "metadata": {},
   "source": [
    "This model relies on a lot of stocks (11 to be specific). There are susceptible and infected stocks for all sleep values (As the contact rate is different for each)."
   ]
  },
  {
   "cell_type": "code",
   "execution_count": 5,
   "metadata": {},
   "outputs": [],
   "source": [
    "def make_system(sleepFive, sleepSix, sleepSeven, sleepEight, sleepNine, infectedInitial, beta5, beta6, beta7, beta8, beta9, beta, gamma):\n",
    "    \"\"\"Make a system object for the SIR model.\n",
    "    \n",
    "    sleepFive: Percentage of the population with five or less hours of sleep\n",
    "    sleepSix: Percentage of the population with six hours of sleep\n",
    "    sleepSeven: Percentage of the population with seven hours of sleep\n",
    "    sleepEight: Percentage of the population with eight hours of sleep\n",
    "    sleepNine: Percentage of the population with nine or more hours of sleep\n",
    "    infectedInitial: Percentage of the population that starts out infected\n",
    "    \n",
    "    beta5: contact rate multiplier in for five hours of sleep\n",
    "    beta6: contact rate multiplier for six hours of sleep\n",
    "    beta7: contact rate multiplier for seven hours of sleep\n",
    "    beta8: contact rate multiplier for eight hours of sleep\n",
    "    beta9: contact rate multiplier for nine hours of sleep\n",
    "    beta: contact rate in days\n",
    "    gamma: recovery rate in days\n",
    "    \n",
    "    returns: System object\n",
    "    \"\"\"\n",
    "    TotalPopulation = 1000\n",
    "    \n",
    "    S5 = sleepFive*TotalPopulation\n",
    "    S6 = sleepSix*TotalPopulation\n",
    "    S7 = sleepSeven*TotalPopulation\n",
    "    S8 = sleepEight*TotalPopulation\n",
    "    S9 = sleepNine*TotalPopulation \n",
    "    \n",
    "    I = TotalPopulation * infectedInitial\n",
    "    \n",
    "    init = State(S5=S5, S6=S6, S7=S7, S8=S8, S9=S9, \n",
    "                 I=I, R=0)\n",
    "    t0 = 0\n",
    "    t_end = 7 * 14\n",
    "    \n",
    "\n",
    "    return System(init=init, t0=t0, t_end=t_end,\n",
    "                  beta5=beta5, beta6=beta6, beta7=beta7, beta8=beta8, beta9=beta9,\n",
    "                  beta=beta, gamma=gamma)"
   ]
  },
  {
   "cell_type": "markdown",
   "metadata": {},
   "source": [
    "There are two plot functions. One plots the total Susceptible, Infected, and Recovered (SIR) and prints out a statement with the percentages of each. The other plot function plots all of the stocks (All of the various sleep values for susceptible and infected).\n",
    "\n",
    "# FIX PLOT FUNCTION and total infected (If needed)"
   ]
  },
  {
   "cell_type": "code",
   "execution_count": 6,
   "metadata": {},
   "outputs": [],
   "source": [
    "def plot_results(results):\n",
    "    \"\"\"Plot the results of a SIR model.\n",
    "    \n",
    "    results: Dataframe with the results of the model\n",
    "    \"\"\"\n",
    "    plot(results.S5, '--', label='Susceptible')\n",
    "    plot(I, '-', label='Infected')\n",
    "    plot(R, ':', label='Recovered')\n",
    "    decorate(xlabel='Time (days)',\n",
    "             ylabel='Fraction of population')"
   ]
  },
  {
   "cell_type": "code",
   "execution_count": 7,
   "metadata": {},
   "outputs": [],
   "source": [
    "def calc_total_infected(results):\n",
    "    \"\"\"Fraction of population infected during the simulation.\n",
    "    \n",
    "    results: DataFrame with columns S, I, R\n",
    "    \n",
    "    returns: fraction of population\n",
    "    \"\"\"\n",
    "    return get_first_value(results.S) - get_last_value(results.S)"
   ]
  },
  {
   "cell_type": "markdown",
   "metadata": {},
   "source": [
    "Uses the make_system function to make a system with the below fractions of people who get five, six, seven, eight, and nine hours of sleep. Also specify the portion of the population that starts out infected."
   ]
  },
  {
   "cell_type": "code",
   "execution_count": 8,
   "metadata": {
    "scrolled": true
   },
   "outputs": [
    {
     "data": {
      "text/html": [
       "<div>\n",
       "<style scoped>\n",
       "    .dataframe tbody tr th:only-of-type {\n",
       "        vertical-align: middle;\n",
       "    }\n",
       "\n",
       "    .dataframe tbody tr th {\n",
       "        vertical-align: top;\n",
       "    }\n",
       "\n",
       "    .dataframe thead th {\n",
       "        text-align: right;\n",
       "    }\n",
       "</style>\n",
       "<table border=\"1\" class=\"dataframe\">\n",
       "  <thead>\n",
       "    <tr style=\"text-align: right;\">\n",
       "      <th></th>\n",
       "      <th>values</th>\n",
       "    </tr>\n",
       "  </thead>\n",
       "  <tbody>\n",
       "    <tr>\n",
       "      <th>init</th>\n",
       "      <td>S5    100.0\n",
       "S6    100.0\n",
       "S7    100.0\n",
       "S8    600....</td>\n",
       "    </tr>\n",
       "    <tr>\n",
       "      <th>t0</th>\n",
       "      <td>0</td>\n",
       "    </tr>\n",
       "    <tr>\n",
       "      <th>t_end</th>\n",
       "      <td>98</td>\n",
       "    </tr>\n",
       "    <tr>\n",
       "      <th>beta5</th>\n",
       "      <td>1.3</td>\n",
       "    </tr>\n",
       "    <tr>\n",
       "      <th>beta6</th>\n",
       "      <td>1.2</td>\n",
       "    </tr>\n",
       "    <tr>\n",
       "      <th>beta7</th>\n",
       "      <td>1.1</td>\n",
       "    </tr>\n",
       "    <tr>\n",
       "      <th>beta8</th>\n",
       "      <td>1</td>\n",
       "    </tr>\n",
       "    <tr>\n",
       "      <th>beta9</th>\n",
       "      <td>1.1</td>\n",
       "    </tr>\n",
       "    <tr>\n",
       "      <th>beta</th>\n",
       "      <td>0.333</td>\n",
       "    </tr>\n",
       "    <tr>\n",
       "      <th>gamma</th>\n",
       "      <td>0.25</td>\n",
       "    </tr>\n",
       "  </tbody>\n",
       "</table>\n",
       "</div>"
      ],
      "text/plain": [
       "init     S5    100.0\n",
       "S6    100.0\n",
       "S7    100.0\n",
       "S8    600....\n",
       "t0                                                       0\n",
       "t_end                                                   98\n",
       "beta5                                                  1.3\n",
       "beta6                                                  1.2\n",
       "beta7                                                  1.1\n",
       "beta8                                                    1\n",
       "beta9                                                  1.1\n",
       "beta                                                 0.333\n",
       "gamma                                                 0.25\n",
       "dtype: object"
      ]
     },
     "execution_count": 8,
     "metadata": {},
     "output_type": "execute_result"
    }
   ],
   "source": [
    "sleepFive = 0.1\n",
    "sleepSix = 0.1\n",
    "sleepSeven = 0.1\n",
    "sleepNine = 0.1\n",
    "sleepEight = 1 - sleepFive - sleepSix - sleepSeven - sleepNine\n",
    "initialInfected = .05\n",
    "\n",
    "#Numbers made up currently\n",
    "beta5 = 1.3 #contact rate multiplier in for five hours of sleep\n",
    "beta6 = 1.2 #contact rate multiplier for six hours of sleep\n",
    "beta7 = 1.1 #contact rate multiplier for seven hours of sleep\n",
    "beta8 = 1.0 #contact rate multiplier for eight hours of sleep\n",
    "beta9 = 1.1 #contact rate multiplier for nine hours of sleep\n",
    "beta = 0.333\n",
    "gamma = 0.25\n",
    "system = make_system(sleepFive, sleepSix, sleepSeven, sleepEight, sleepNine, initialInfected, beta5, beta6, beta7, beta8, beta9, beta, gamma)"
   ]
  },
  {
   "cell_type": "code",
   "execution_count": 17,
   "metadata": {},
   "outputs": [],
   "source": [
    "def slope_func(state, t, system):\n",
    "    \"\"\"Update the SIR model.\n",
    "    \n",
    "    state: State (s5, s6, s7, s8, s9, i5, i6, i7, i8, i9, r)\n",
    "    t: time\n",
    "    system: System object\n",
    "    \n",
    "    returns: pair of derivatives\n",
    "    \"\"\" \n",
    "    #s5, s6, s7, s8, s9, i5, i6, i7, i8, i9, r = state\n",
    "    s5, s6, s7, s8, s9, i, r = state\n",
    "    unpack(system)\n",
    "    \n",
    "    s = s5 + s6 + s7 + s8 + s9 # Total susceptible\n",
    "    #i = i5 + i6 + i7 + i8 + i9 # Total infected\n",
    "    \n",
    "    ds5dt = -(beta*beta5) * i * (s5/s) #The change in the 5 hour of susceptible sleep group = infection rate * total infected * percent of susceptible that have 5 hours of sleep\n",
    "    #di5dt = ds5dt - gamma * (i5/i) #Change in 5 hour of sleep infected group = change in susceptible group becoming infected - (recovery rate * percentage of infected that have 5 hours of sleep)\n",
    "    \n",
    "    ds6dt = -(beta*beta6) * i * (s6/s)\n",
    "    #di6dt = ds6dt - gamma * (i6/i)\n",
    "    \n",
    "    ds7dt = -(beta*beta7) * i * (s7/s)\n",
    "    #di7dt = ds7dt - gamma * (i7/i)\n",
    "    \n",
    "    ds8dt = -(beta*beta8) * i * (s8/s)\n",
    "    #di8dt = ds8dt - gamma * (i8/i)\n",
    "    \n",
    "    ds9dt = -(beta*beta9) * i * (s9/s)\n",
    "    #di9dt = ds9dt - gamma * (i9/i)\n",
    "    \n",
    "    TotalSchange = ds5dt + ds6dt + ds7dt + ds8dt + ds9dt\n",
    "    didt = -TotalSchange - gamma * i\n",
    "    drdt = gamma * i\n",
    "   \n",
    "    print('Check to make sure Total Infected Change = -(Total Susceptible Change) - (Total Recovered Change)')\n",
    "    print('-(Total Susceptible Change) - (Total Recoverd Change) = ' , -TotalSchange - drdt)\n",
    "    print('Total Infected Change = ' , didt)\n",
    "    \n",
    "    #return ds5dt, di5dt, ds6dt, di6dt, ds7dt, di7dt, ds8dt, di8dt, ds9dt, di9dt, drdt\n",
    "    return ds5dt, ds6dt, ds7dt, ds8dt, ds9dt, didt, drdt"
   ]
  },
  {
   "cell_type": "code",
   "execution_count": 18,
   "metadata": {},
   "outputs": [
    {
     "name": "stdout",
     "output_type": "stream",
     "text": [
      "Check to make sure Total Infected Change = -(Total Susceptible Change) - (Total Recovered Change)\n",
      "-(Total Susceptible Change) - (Total Recoverd Change) =  5.315500000000004\n",
      "Total Infected Change =  5.315500000000004\n"
     ]
    },
    {
     "data": {
      "text/plain": [
       "(-2.1645000000000003,\n",
       " -1.9979999999999998,\n",
       " -1.8315000000000003,\n",
       " -9.990000000000002,\n",
       " -1.8315000000000003,\n",
       " 5.315500000000004,\n",
       " 12.5)"
      ]
     },
     "execution_count": 18,
     "metadata": {},
     "output_type": "execute_result"
    }
   ],
   "source": [
    "slope_func(system.init, system.t0, system)"
   ]
  },
  {
   "cell_type": "code",
   "execution_count": 19,
   "metadata": {},
   "outputs": [
    {
     "data": {
      "text/html": [
       "<div>\n",
       "<style scoped>\n",
       "    .dataframe tbody tr th:only-of-type {\n",
       "        vertical-align: middle;\n",
       "    }\n",
       "\n",
       "    .dataframe tbody tr th {\n",
       "        vertical-align: top;\n",
       "    }\n",
       "\n",
       "    .dataframe thead th {\n",
       "        text-align: right;\n",
       "    }\n",
       "</style>\n",
       "<table border=\"1\" class=\"dataframe\">\n",
       "  <thead>\n",
       "    <tr style=\"text-align: right;\">\n",
       "      <th></th>\n",
       "      <th>values</th>\n",
       "    </tr>\n",
       "  </thead>\n",
       "  <tbody>\n",
       "    <tr>\n",
       "      <th>S5</th>\n",
       "      <td>100.0</td>\n",
       "    </tr>\n",
       "    <tr>\n",
       "      <th>S6</th>\n",
       "      <td>100.0</td>\n",
       "    </tr>\n",
       "    <tr>\n",
       "      <th>S7</th>\n",
       "      <td>100.0</td>\n",
       "    </tr>\n",
       "    <tr>\n",
       "      <th>S8</th>\n",
       "      <td>600.0</td>\n",
       "    </tr>\n",
       "    <tr>\n",
       "      <th>S9</th>\n",
       "      <td>100.0</td>\n",
       "    </tr>\n",
       "    <tr>\n",
       "      <th>I</th>\n",
       "      <td>50.0</td>\n",
       "    </tr>\n",
       "    <tr>\n",
       "      <th>R</th>\n",
       "      <td>0.0</td>\n",
       "    </tr>\n",
       "  </tbody>\n",
       "</table>\n",
       "</div>"
      ],
      "text/plain": [
       "S5    100.0\n",
       "S6    100.0\n",
       "S7    100.0\n",
       "S8    600.0\n",
       "S9    100.0\n",
       "I      50.0\n",
       "R       0.0\n",
       "dtype: float64"
      ]
     },
     "execution_count": 19,
     "metadata": {},
     "output_type": "execute_result"
    }
   ],
   "source": [
    "system.init"
   ]
  },
  {
   "cell_type": "code",
   "execution_count": null,
   "metadata": {},
   "outputs": [],
   "source": [
    "results.plot()"
   ]
  },
  {
   "cell_type": "code",
   "execution_count": null,
   "metadata": {},
   "outputs": [],
   "source": [
    "results, details = run_ode_solver(system, slope_func, max_step = 2)\n",
    "details"
   ]
  },
  {
   "cell_type": "code",
   "execution_count": 51,
   "metadata": {},
   "outputs": [
    {
     "ename": "NameError",
     "evalue": "name 'results' is not defined",
     "output_type": "error",
     "traceback": [
      "\u001b[0;31m---------------------------------------------------------------------------\u001b[0m",
      "\u001b[0;31mNameError\u001b[0m                                 Traceback (most recent call last)",
      "\u001b[0;32m<ipython-input-51-93a479bf92ff>\u001b[0m in \u001b[0;36m<module>\u001b[0;34m\u001b[0m\n\u001b[0;32m----> 1\u001b[0;31m \u001b[0mresults\u001b[0m\u001b[0;34m.\u001b[0m\u001b[0mplot\u001b[0m\u001b[0;34m(\u001b[0m\u001b[0;34m)\u001b[0m\u001b[0;34m\u001b[0m\u001b[0m\n\u001b[0m",
      "\u001b[0;31mNameError\u001b[0m: name 'results' is not defined"
     ]
    }
   ],
   "source": [
    "results.plot()"
   ]
  },
  {
   "cell_type": "code",
   "execution_count": null,
   "metadata": {},
   "outputs": [],
   "source": []
  },
  {
   "cell_type": "code",
   "execution_count": null,
   "metadata": {},
   "outputs": [],
   "source": []
  }
 ],
 "metadata": {
  "kernelspec": {
   "display_name": "Python 3",
   "language": "python",
   "name": "python3"
  },
  "language_info": {
   "codemirror_mode": {
    "name": "ipython",
    "version": 3
   },
   "file_extension": ".py",
   "mimetype": "text/x-python",
   "name": "python",
   "nbconvert_exporter": "python",
   "pygments_lexer": "ipython3",
   "version": "3.6.6"
  }
 },
 "nbformat": 4,
 "nbformat_minor": 2
}
