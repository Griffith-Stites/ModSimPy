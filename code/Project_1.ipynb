{
 "cells": [
  {
   "cell_type": "markdown",
   "metadata": {},
   "source": [
    "Project 1: Alex and Griffith"
   ]
  },
  {
   "cell_type": "markdown",
   "metadata": {},
   "source": [
    "# What portion of the cat population in Washington, D.C. would have to be neutered to maintain cat and rat populations?"
   ]
  },
  {
   "cell_type": "markdown",
   "metadata": {},
   "source": [
    "In urban areas, rats pose a health risk and are often unsightly. Cats are heralded as a way to curb rat populations, but environmentalists and other critics take issue with the proliferation of feral cats that kill other small animals and pose their own health concerns. The most accepted method of curbing feral cat populations is Trap-Neuter-Return, which sterilizes cats before returning them to the wild. In this way, feral cat populations can be stabilized without eliminating them completely and thus reintroducing rats. "
   ]
  },
  {
   "cell_type": "markdown",
   "metadata": {},
   "source": [
    "# This model aims to determine how to indirectly control rat populations by directly controlling feral cat populations."
   ]
  },
  {
   "cell_type": "code",
   "execution_count": 11,
   "metadata": {},
   "outputs": [],
   "source": [
    "# Configure Jupyter so figures appear in the notebook\n",
    "%matplotlib inline\n",
    "\n",
    "# Configure Jupyter to display the assigned value after an assignment\n",
    "%config InteractiveShell.ast_node_interactivity='last_expr_or_assign'\n",
    "\n",
    "# import functions from the modsim library\n",
    "from modsim import *"
   ]
  },
  {
   "cell_type": "code",
   "execution_count": 227,
   "metadata": {},
   "outputs": [],
   "source": [
    "def plot_results(TotalCatPop, RatPop, title):\n",
    "    \"\"\"Plot the estimates and the model.\n",
    "    \n",
    "    TotalCatPop: Timeseries of the total cat population    \n",
    "    RatPop:  TimeSeries of rat population simulation results\n",
    "    title: string\n",
    "    \"\"\"\n",
    "    plot(TotalCatPop, label='Total Cat Population')\n",
    "    plot(RatPop, label='Rat Population')\n",
    "    title = title\n",
    "    \n",
    "    decorate(xlabel = 'Year',\n",
    "             ylabel = '<Washington, D.C. Population (million)',\n",
    "            title=title)"
   ]
  },
  {
   "cell_type": "code",
   "execution_count": 104,
   "metadata": {},
   "outputs": [],
   "source": [
    "def update_population(populations, rates, percent_neutered):\n",
    "    \"\"\"Simulate the system for one year\n",
    "    \n",
    "    populations: state object with current cats neutered, cats not neutered, and rat population\n",
    "    rates: System object - Death rates and growth rates\n",
    "    percent_neutered: Percent of cat population neutered\n",
    "    \n",
    "    return: State\"\"\"\n",
    "    populations.cats = update_cat (populations.cats, rates, percent_neutered)\n",
    "    populations.rats = update_rat (populations, rates)\n",
    "    \n",
    "    return populations"
   ]
  },
  {
   "cell_type": "code",
   "execution_count": 105,
   "metadata": {},
   "outputs": [],
   "source": [
    "def update_cat(pop, rates, percent_neutered):\n",
    "    \"\"\"Update the cat population for the next year.\n",
    "    \n",
    "    pop: population of cats in millions\n",
    "    rates: system object with death and growth rates\n",
    "    \"\"\"\n",
    "    growth = rates.cat_growth_coefficient * ((1-percent_neutered) * pop)\n",
    "    death = rates.cat_death_coefficient * pop\n",
    "    if(pop + growth - death <= 0): #Checks to see if population is 0\n",
    "        pop = 0\n",
    "        return pop\n",
    "    return pop + growth - death"
   ]
  },
  {
   "cell_type": "code",
   "execution_count": 106,
   "metadata": {},
   "outputs": [],
   "source": [
    "def update_rat(populations, rates):\n",
    "    \"\"\"Update the rat population for the next year.\n",
    "    \n",
    "    populations: contains rat and cat populations\n",
    "    rates: system object with death and growth rates\n",
    "    \"\"\"\n",
    "    pop_change = (rates.rat_growth_coefficient * populations.rats)-(rates.rat_death_coefficient * populations.cats)\n",
    "    if(populations.rats + pop_change <= 0): #Checks to see if population is 0\n",
    "        populations.rats = 0\n",
    "        return populations.rats\n",
    "    return populations.rats + pop_change"
   ]
  },
  {
   "cell_type": "markdown",
   "metadata": {},
   "source": [
    "The model relies on 3 populations: the population of rats, the population of un-neutered cats, and the population of neutered cats."
   ]
  },
  {
   "cell_type": "code",
   "execution_count": 204,
   "metadata": {},
   "outputs": [],
   "source": [
    "#This cell establishes the model parameters\n",
    "\n",
    "populations = State(cats = 2.5, rats = 40) #Establishes the cat and rat population\n",
    "rates = System()#Opens an empty rate System\n",
    "\n",
    "#This cell allows easy access to change model parameters such as cat population\n",
    "#All need updating except cat_death_coefficient\n",
    "rates.rat_growth_coefficient = .21 #Establishes how rats grow without cat influence\n",
    "rates.rat_death_coefficient = .6 #Establishes how rat pop dies with cat influence\n",
    "\n",
    "timescale = 10 #Sets the timescale for the predictions in years\n",
    "rates.cat_growth_coefficient = .5 #Establishes how cats grow\n",
    "rates.cat_death_coefficient = .3 #Establishes the cat death\n",
    "\n",
    "rates.cats_neutered = .6 #Establishes a flat rate (Minimum) of how many non-neutered cats are neutered per year in millions\n",
    "rates.cats_neutered_coefficient = .1 #Neutered cats based on population of cats"
   ]
  },
  {
   "cell_type": "markdown",
   "metadata": {},
   "source": [
    "The neutered cat population is controlled by human intervention."
   ]
  },
  {
   "cell_type": "markdown",
   "metadata": {},
   "source": [
    "The cat birth rate is influenced by the neutered cat population."
   ]
  },
  {
   "cell_type": "markdown",
   "metadata": {},
   "source": [
    "The rat death rate is influenced by the number of cats total."
   ]
  },
  {
   "cell_type": "markdown",
   "metadata": {},
   "source": [
    "The cat birth rate does NOT change based off of rats, because feral cats tend not to survive off of rats, and hunt them simply out of instinct."
   ]
  },
  {
   "cell_type": "code",
   "execution_count": 215,
   "metadata": {},
   "outputs": [],
   "source": [
    "populationsTemp = State(cats = populations.cats, rats = populations.rats)\n",
    "timescale = 10 #Number of years to run program\n",
    "percent_neutered = .30\n",
    "ratData = TimeSeries()\n",
    "catData = TimeSeries()\n",
    "#populationsTemp = populations #Establishes temp data for cat and rat population as to not change overall state\n",
    "\n",
    "for year in range (timescale):\n",
    "    oneYearResults = update_population(populationsTemp, rates, percent_neutered)\n",
    "    ratData[year] = oneYearResults.rats\n",
    "    catData[year] = oneYearResults.cats"
   ]
  },
  {
   "cell_type": "code",
   "execution_count": 228,
   "metadata": {},
   "outputs": [
    {
     "name": "stdout",
     "output_type": "stream",
     "text": [
      "Saving figure to file figs/project-1.pdf\n"
     ]
    },
    {
     "data": {
      "image/png": "[encoded data removed]",
      "text/plain": [
       "<Figure size 432x288 with 1 Axes>"
      ]
     },
     "metadata": {},
     "output_type": "display_data"
    }
   ],
   "source": [
    "plot_results(catData, ratData, '30% Neutered')\n",
    "savefig('figs/project-1.pdf')"
   ]
  },
  {
   "cell_type": "markdown",
   "metadata": {},
   "source": [
    "The above graph shows that with very few neutered cats, cat and rat populations will both grow over a period of 10 years."
   ]
  },
  {
   "cell_type": "markdown",
   "metadata": {},
   "source": [
    "To Do:\n",
    "- Rate that rats repopulate at\n",
    "- Rate that cats repopulate at\n",
    "- Plug in more reasonable data: neutered cat numbers, not neutered cats, cats neutered a year, rat population, rat growth rate\n",
    "- Rat and cat populations\n",
    "- Add randomness factor\n",
    "- Coding:\n",
    "- Have automatic title based on percent neutered (Use combination of string and var)\n",
    "- Put code in a function to generate data"
   ]
  },
  {
   "cell_type": "markdown",
   "metadata": {},
   "source": [
    "Assumptions/Notes:\n",
    "* Cat population independent of rat population\n",
    "* Will be neutered from existing cat population"
   ]
  },
  {
   "cell_type": "code",
   "execution_count": null,
   "metadata": {},
   "outputs": [],
   "source": []
  }
 ],
 "metadata": {
  "kernelspec": {
   "display_name": "Python 3",
   "language": "python",
   "name": "python3"
  },
  "language_info": {
   "codemirror_mode": {
    "name": "ipython",
    "version": 3
   },
   "file_extension": ".py",
   "mimetype": "text/x-python",
   "name": "python",
   "nbconvert_exporter": "python",
   "pygments_lexer": "ipython3",
   "version": "3.7.1"
  }
 },
 "nbformat": 4,
 "nbformat_minor": 2
}
