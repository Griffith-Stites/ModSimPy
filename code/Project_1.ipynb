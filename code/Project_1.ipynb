{
 "cells": [
  {
   "cell_type": "markdown",
   "metadata": {},
   "source": [
    "Project 1: Alex and Griffith"
   ]
  },
  {
   "cell_type": "markdown",
   "metadata": {},
   "source": [
    "# What portion of the cat population in Washington, D.C. would have to be neutered to maintain cat and rat populations?"
   ]
  },
  {
   "cell_type": "markdown",
   "metadata": {},
   "source": [
    "In urban areas, rats pose a health risk and are often unsightly. Cats are heralded as a way to curb rat populations, but environmentalists and other critics take issue with the proliferation of feral cats that kill other small animals and pose their own health concerns. The most accepted method of curbing feral cat populations is Trap-Neuter-Return, which sterilizes cats before returning them to the wild. In this way, feral cat populations can be stabilized without eliminating them completely and thus reintroducing rats. "
   ]
  },
  {
   "cell_type": "markdown",
   "metadata": {},
   "source": [
    "# This model aims to determine how to indirectly control rat populations by directly controlling feral cat populations."
   ]
  },
  {
   "cell_type": "code",
   "execution_count": 1,
   "metadata": {},
   "outputs": [],
   "source": [
    "# Configure Jupyter so figures appear in the notebook\n",
    "%matplotlib inline\n",
    "\n",
    "# Configure Jupyter to display the assigned value after an assignment\n",
    "%config InteractiveShell.ast_node_interactivity='last_expr_or_assign'\n",
    "\n",
    "# import functions from the modsim library\n",
    "from modsim import *"
   ]
  },
  {
   "cell_type": "code",
   "execution_count": 416,
   "metadata": {},
   "outputs": [],
   "source": [
    "def plot_results(TotalCatPop, CatNeutered, CatNotNeutered, RatPop, title):\n",
    "    \"\"\"Plot the estimates and the model.\n",
    "    \n",
    "    TotalCatPop: Timeseries of the total cat population    \n",
    "    CatNeutered: Timeseries of neutered cat population simulation results\n",
    "    RatPop:  TimeSeries of rat population simulation results\n",
    "    title: string - gives the graph a title\n",
    "    \"\"\"\n",
    "    plot(TotalCatPop, label='Total Cat Population')\n",
    "    plot(CatNeutered, '--', label='Neutered Cats')\n",
    "    plot(CatNotNeutered, '-', label = 'Not Neutered Cats')\n",
    "    plot(RatPop, label='Rat Population')\n",
    "    \n",
    "    decorate(xlabel = 'Year',\n",
    "             ylabel = '<Washington, D.C. Population (million)',\n",
    "            title=title)"
   ]
  },
  {
   "cell_type": "code",
   "execution_count": 132,
   "metadata": {},
   "outputs": [],
   "source": [
    "def run_simulation(group, rates, timescale, update_func):\n",
    "    \"\"\"Simulate the system using any update function. Predicts the cat/rat pop\n",
    "    \n",
    "    group: Population of the group in question\n",
    "    rates: System object - Death rates and growth rates\n",
    "    timescale: int how far into the future the predictions go\n",
    "    update_func: function that computes the population for next year\n",
    "    \n",
    "    returns: TimeSeries\n",
    "    \"\"\"\n",
    "    pop = TimeSeries() #Stores the population prediction in a TimeSeries\n",
    "    pop[0]=group\n",
    "    for year in range(timescale): #Runs through all the years through the end of timescale\n",
    "        pop[year+1] = update_func(pop[year], rates)\n",
    "    return pop"
   ]
  },
  {
   "cell_type": "code",
   "execution_count": 305,
   "metadata": {},
   "outputs": [],
   "source": [
    "def population_update_cat_not_neutered(pop, rates):\n",
    "    \"\"\"Update the cat population for the next year.\n",
    "    \n",
    "    pop: current cat population in millions\n",
    "    rates: system object with death and growth rates\n",
    "    \"\"\"\n",
    "    growth = (rates.cat_growth_coefficient * pop) - (rates.cat_death_coefficient * pop) - (rates.cats_neutered)\n",
    "    if(pop + growth <= 0): #Checks to see if population is 0\n",
    "        pop = 0\n",
    "        return pop\n",
    "    return pop + growth"
   ]
  },
  {
   "cell_type": "code",
   "execution_count": 306,
   "metadata": {},
   "outputs": [],
   "source": [
    "def population_update_cat_neutered(pop, rates):\n",
    "    \"\"\"Update the neutered cat population for the next year.\n",
    "    \n",
    "    pop: current neutered cat population in millions \n",
    "    year: what year it is\n",
    "    rates: system object with death and growth rates\n",
    "    \"\"\"\n",
    "    growth = (rates.cats_neutered) - (rates.cat_death_coefficient * pop)\n",
    "    if(pop + growth <= 0): #Checks to see if population is 0\n",
    "        pop = 0\n",
    "        return pop\n",
    "    return pop + growth"
   ]
  },
  {
   "cell_type": "code",
   "execution_count": 307,
   "metadata": {},
   "outputs": [],
   "source": [
    "def run_simulation_rat(ratPop, catPopHistory, rates, timescale, update_func):\n",
    "    \"\"\"Simulate the system. Predicts the rat population. \n",
    "    \n",
    "    Uses the by year cat population to predict that years rat population.\n",
    "    \n",
    "    ratPop: State object with initial rat population\n",
    "    catPopHistory: Timeseries with cat pop history\n",
    "    rates: System object - death rates and growth rates\n",
    "    timescale: int - how far into the future the predictions go\n",
    "    update_func: function that computes the population for next year\n",
    "    \n",
    "    returns: TimeSeries\n",
    "    \"\"\"\n",
    "    pop = TimeSeries() #Stores the population prediction in a TimeSeries\n",
    "    pop[0] = ratPop\n",
    "    for year in range(timescale):\n",
    "        pop[year+1] = update_func(catPopHistory, pop[year], year, rates)\n",
    "    return pop"
   ]
  },
  {
   "cell_type": "code",
   "execution_count": 308,
   "metadata": {},
   "outputs": [],
   "source": [
    "def population_update_rat(catPopHistory, pop, year, rates):\n",
    "    \"\"\"Update the rat population for the next year.\n",
    "    \n",
    "    catPopHistory: Timeseries with cat population history\n",
    "    pop: current rat population in millions\n",
    "    year: what year it is\n",
    "    rates: system object with death and growth rates\n",
    "    \"\"\"\n",
    "    catPop = catPopHistory[year] #The cat population for that year\n",
    "    pop_change = (rates.rat_growth_coefficient * pop)-(rates.rat_death_coefficient * catPop)\n",
    "    if(pop + pop_change <= 0): #Checks to see if population is 0\n",
    "        pop = 0\n",
    "        return pop\n",
    "    return pop + pop_change"
   ]
  },
  {
   "cell_type": "markdown",
   "metadata": {},
   "source": [
    "The model relies on 3 populations: the population of rats, the population of un-neutered cats, and the population of neutered cats."
   ]
  },
  {
   "cell_type": "code",
   "execution_count": 322,
   "metadata": {},
   "outputs": [
    {
     "data": {
      "text/html": [
       "<div>\n",
       "<style scoped>\n",
       "    .dataframe tbody tr th:only-of-type {\n",
       "        vertical-align: middle;\n",
       "    }\n",
       "\n",
       "    .dataframe tbody tr th {\n",
       "        vertical-align: top;\n",
       "    }\n",
       "\n",
       "    .dataframe thead th {\n",
       "        text-align: right;\n",
       "    }\n",
       "</style>\n",
       "<table border=\"1\" class=\"dataframe\">\n",
       "  <thead>\n",
       "    <tr style=\"text-align: right;\">\n",
       "      <th></th>\n",
       "      <th>values</th>\n",
       "    </tr>\n",
       "  </thead>\n",
       "  <tbody>\n",
       "  </tbody>\n",
       "</table>\n",
       "</div>"
      ],
      "text/plain": [
       "Series([], dtype: float64)"
      ]
     },
     "execution_count": 322,
     "metadata": {},
     "output_type": "execute_result"
    }
   ],
   "source": [
    "#This cell establishes the model parameters\n",
    "\n",
    "populations = State(cats_not_neutered=2, cats_neutered = .6, rat=40) #Establishes the cat and rat population\n",
    "rates = System()#Opens an empty rate System"
   ]
  },
  {
   "cell_type": "markdown",
   "metadata": {},
   "source": [
    "The neutered cat population is controlled by human intervention."
   ]
  },
  {
   "cell_type": "markdown",
   "metadata": {},
   "source": [
    "The cat birth rate is influenced by the neutered cat population."
   ]
  },
  {
   "cell_type": "markdown",
   "metadata": {},
   "source": [
    "The rat death rate is influenced by the number of cats total."
   ]
  },
  {
   "cell_type": "markdown",
   "metadata": {},
   "source": [
    "The cat birth rate does NOT change based off of rats, because feral cats tend not to survive off of rats, and hunt them simply out of instinct."
   ]
  },
  {
   "cell_type": "code",
   "execution_count": 415,
   "metadata": {
    "scrolled": true
   },
   "outputs": [],
   "source": [
    "#This cell allows easy access to change model parameters such as cat population\n",
    "#All need updating except cat_death_coefficient\n",
    "rates.rat_growth_coefficient = .21 #Establishes how rats grow without cat influence\n",
    "rates.rat_death_coefficient = .6 #Establishes how rat pop dies with cat influence\n",
    "\n",
    "timescale = 10 #Sets the timescale for the predictions in years\n",
    "rates.cat_growth_coefficient = .8 #Establishes how cats grow\n",
    "rates.cat_death_coefficient = .3 #Establishes the cat death\n",
    "\n",
    "rates.cats_neutered = .6 #Establishes a flat rate (Minimum) of how many non-neutered cats are neutered per year in millions\n",
    "rates.cats_neutered_coefficient = .1 #Neutered cats based on population of cats"
   ]
  },
  {
   "cell_type": "code",
   "execution_count": 417,
   "metadata": {},
   "outputs": [
    {
     "name": "stdout",
     "output_type": "stream",
     "text": [
      "Saving figure to file figs/project-1.pdf\n"
     ]
    },
    {
     "data": {
      "image/png": "[encoded data removed]",
      "text/plain": [
       "<Figure size 432x288 with 1 Axes>"
      ]
     },
     "metadata": {},
     "output_type": "display_data"
    }
   ],
   "source": [
    "resultsCats_neutered = run_simulation(populations.cats_neutered, rates, timescale, population_update_cat_neutered)\n",
    "resultsCats_not_neutered = run_simulation(populations.cats_not_neutered, rates, timescale, population_update_cat_not_neutered)\n",
    "totalCatPop = resultsCats_neutered + resultsCats_not_neutered\n",
    "resultsRats = run_simulation_rat (populations.rat, totalCatPop, rates, timescale, population_update_rat)\n",
    "\n",
    "plot_results(totalCatPop, resultsCats_neutered, resultsCats_not_neutered, resultsRats, 'Rats vs Cats')\n",
    "savefig('figs/project-1.pdf')"
   ]
  },
  {
   "cell_type": "markdown",
   "metadata": {},
   "source": [
    "The above graph shows that with very few neutered cats, cat and rat populations will both grow over a period of 10 years."
   ]
  },
  {
   "cell_type": "markdown",
   "metadata": {},
   "source": [
    "Data:\n",
    "\n",
    " - 17% of Cats disappear over 11 years - 1.54% cat population a year death rate"
   ]
  },
  {
   "cell_type": "markdown",
   "metadata": {},
   "source": [
    "To Do:\n",
    "- QMRI\n",
    "- Plug in more reasonable data: neutered cat numbers, not neutered cats, cats neutered a year, rat population, rat growth rate\n",
    "- Add randomness factor"
   ]
  },
  {
   "cell_type": "markdown",
   "metadata": {},
   "source": [
    "Assumptions/Notes:\n",
    "* Cat population independent of rat population\n",
    "* Will be neutered from existing cat population"
   ]
  },
  {
   "cell_type": "code",
   "execution_count": null,
   "metadata": {},
   "outputs": [],
   "source": []
  }
 ],
 "metadata": {
  "kernelspec": {
   "display_name": "Python 3",
   "language": "python",
   "name": "python3"
  },
  "language_info": {
   "codemirror_mode": {
    "name": "ipython",
    "version": 3
   },
   "file_extension": ".py",
   "mimetype": "text/x-python",
   "name": "python",
   "nbconvert_exporter": "python",
   "pygments_lexer": "ipython3",
   "version": "3.6.6"
  }
 },
 "nbformat": 4,
 "nbformat_minor": 2
}
